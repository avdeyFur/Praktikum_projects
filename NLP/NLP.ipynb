{
  "cells": [
    {
      "cell_type": "markdown",
      "metadata": {
        "id": "64sCFtRzCp8T"
      },
      "source": [
        "# Проект для «Викишоп»"
      ]
    },
    {
      "cell_type": "markdown",
      "metadata": {
        "id": "lXH4cqkoCp8U"
      },
      "source": [
        "Интернет-магазин «Викишоп» запускает новый сервис. Теперь пользователи могут редактировать и дополнять описания товаров, как в вики-сообществах. То есть клиенты предлагают свои правки и комментируют изменения других. Магазину нужен инструмент, который будет искать токсичные комментарии и отправлять их на модерацию.\n",
        "\n",
        "Обучите модель классифицировать комментарии на позитивные и негативные. В вашем распоряжении набор данных с разметкой о токсичности правок.\n",
        "\n",
        "Постройте модель со значением метрики качества *F1* не меньше 0.75.\n",
        "\n",
        "**Инструкция по выполнению проекта**\n",
        "\n",
        "1. Загрузите и подготовьте данные.\n",
        "2. Обучите разные модели.\n",
        "3. Сделайте выводы.\n",
        "\n",
        "Для выполнения проекта применять *BERT* необязательно, но вы можете попробовать.\n",
        "\n",
        "**Описание данных**\n",
        "\n",
        "Данные находятся в файле `toxic_comments.csv`. Столбец *text* в нём содержит текст комментария, а *toxic* — целевой признак."
      ]
    },
    {
      "cell_type": "code",
      "execution_count": null,
      "metadata": {
        "tags": [],
        "id": "hu-p1mD1Cp8U",
        "outputId": "004a6a23-d849-40c1-cf16-5b572295203c"
      },
      "outputs": [
        {
          "name": "stdout",
          "output_type": "stream",
          "text": [
            "Note: you may need to restart the kernel to use updated packages.\n"
          ]
        }
      ],
      "source": [
        "pip install nltk -q"
      ]
    },
    {
      "cell_type": "code",
      "execution_count": null,
      "metadata": {
        "scrolled": true,
        "id": "_dfdRso0Cp8V",
        "outputId": "5e0d73a6-2538-4419-ab26-6b839b7daca3"
      },
      "outputs": [
        {
          "name": "stdout",
          "output_type": "stream",
          "text": [
            "Note: you may need to restart the kernel to use updated packages.\n"
          ]
        }
      ],
      "source": [
        "pip install wordcloud==1.8.2.2 -q"
      ]
    },
    {
      "cell_type": "code",
      "execution_count": null,
      "metadata": {
        "id": "FezL3YqNCp8V",
        "outputId": "2aa994bb-fa05-4dfe-b43f-bc4f29df076a"
      },
      "outputs": [
        {
          "name": "stdout",
          "output_type": "stream",
          "text": [
            "Note: you may need to restart the kernel to use updated packages.\n"
          ]
        }
      ],
      "source": [
        "pip install Pillow==8.0.0 -q"
      ]
    },
    {
      "cell_type": "code",
      "execution_count": null,
      "metadata": {
        "id": "wQukfpJECp8V",
        "outputId": "b1f37601-f3cb-4e64-fc18-d3ae5f47f860"
      },
      "outputs": [
        {
          "name": "stdout",
          "output_type": "stream",
          "text": [
            "Note: you may need to restart the kernel to use updated packages.\n"
          ]
        }
      ],
      "source": [
        "pip install scikit-learn==1.5.0 -q"
      ]
    },
    {
      "cell_type": "code",
      "execution_count": null,
      "metadata": {
        "scrolled": true,
        "tags": [],
        "id": "KXHJfsxTCp8W",
        "outputId": "d57a2593-3dc2-41fe-e851-61d524feef95"
      },
      "outputs": [
        {
          "name": "stderr",
          "output_type": "stream",
          "text": [
            "[nltk_data] Downloading package wordnet to /home/jovyan/nltk_data...\n",
            "[nltk_data]   Package wordnet is already up-to-date!\n",
            "[nltk_data] Downloading package punkt to /home/jovyan/nltk_data...\n",
            "[nltk_data]   Package punkt is already up-to-date!\n",
            "[nltk_data] Downloading package averaged_perceptron_tagger to\n",
            "[nltk_data]     /home/jovyan/nltk_data...\n",
            "[nltk_data]   Package averaged_perceptron_tagger is already up-to-\n",
            "[nltk_data]       date!\n",
            "[nltk_data] Downloading package stopwords to /home/jovyan/nltk_data...\n",
            "[nltk_data]   Package stopwords is already up-to-date!\n"
          ]
        }
      ],
      "source": [
        "import pandas as pd\n",
        "import numpy as np\n",
        "import re\n",
        "import nltk\n",
        "import matplotlib.pyplot as plt\n",
        "import wordcloud\n",
        "import random\n",
        "\n",
        "\n",
        "from nltk.stem import WordNetLemmatizer\n",
        "from nltk.tokenize import word_tokenize\n",
        "from nltk.corpus import wordnet\n",
        "from nltk.corpus import stopwords\n",
        "nltk.download('wordnet')\n",
        "nltk.download('punkt')\n",
        "nltk.download('averaged_perceptron_tagger')\n",
        "nltk.download('stopwords')\n",
        "stop_words = set(stopwords.words('english'))\n",
        "\n",
        "from sklearn.feature_extraction.text import TfidfVectorizer\n",
        "from sklearn.pipeline import Pipeline\n",
        "from sklearn.model_selection import train_test_split, cross_val_score, GridSearchCV\n",
        "from sklearn.naive_bayes import ComplementNB, MultinomialNB\n",
        "from sklearn.linear_model import LogisticRegression, SGDClassifier\n",
        "from sklearn.metrics import f1_score\n",
        "\n",
        "from wordcloud import WordCloud\n",
        "\n",
        "RANDOM_STATE=42"
      ]
    },
    {
      "cell_type": "markdown",
      "metadata": {
        "id": "uP_HAcmBCp8W"
      },
      "source": [
        "\n",
        "<div class=\"alert alert-block alert-success\">\n",
        "<b>Успех:</b> Импорты  как всегда на месте\n",
        "</div>"
      ]
    },
    {
      "cell_type": "markdown",
      "metadata": {
        "id": "ot9tfAQ7Cp8W"
      },
      "source": [
        "## Подготовка"
      ]
    },
    {
      "cell_type": "markdown",
      "metadata": {
        "id": "ZYnyc3MkCp8W"
      },
      "source": [
        "### Загрузка данных"
      ]
    },
    {
      "cell_type": "code",
      "execution_count": null,
      "metadata": {
        "scrolled": true,
        "tags": [],
        "id": "uGX-Zet-Cp8W",
        "outputId": "16336f64-11e0-4ec0-ce27-e944d262f968"
      },
      "outputs": [
        {
          "name": "stdout",
          "output_type": "stream",
          "text": [
            "server\n"
          ]
        },
        {
          "data": {
            "text/html": [
              "<div>\n",
              "<style scoped>\n",
              "    .dataframe tbody tr th:only-of-type {\n",
              "        vertical-align: middle;\n",
              "    }\n",
              "\n",
              "    .dataframe tbody tr th {\n",
              "        vertical-align: top;\n",
              "    }\n",
              "\n",
              "    .dataframe thead th {\n",
              "        text-align: right;\n",
              "    }\n",
              "</style>\n",
              "<table border=\"1\" class=\"dataframe\">\n",
              "  <thead>\n",
              "    <tr style=\"text-align: right;\">\n",
              "      <th></th>\n",
              "      <th>text</th>\n",
              "      <th>toxic</th>\n",
              "    </tr>\n",
              "  </thead>\n",
              "  <tbody>\n",
              "    <tr>\n",
              "      <th>0</th>\n",
              "      <td>Explanation\\nWhy the edits made under my usern...</td>\n",
              "      <td>0</td>\n",
              "    </tr>\n",
              "    <tr>\n",
              "      <th>1</th>\n",
              "      <td>D'aww! He matches this background colour I'm s...</td>\n",
              "      <td>0</td>\n",
              "    </tr>\n",
              "    <tr>\n",
              "      <th>2</th>\n",
              "      <td>Hey man, I'm really not trying to edit war. It...</td>\n",
              "      <td>0</td>\n",
              "    </tr>\n",
              "    <tr>\n",
              "      <th>3</th>\n",
              "      <td>\"\\nMore\\nI can't make any real suggestions on ...</td>\n",
              "      <td>0</td>\n",
              "    </tr>\n",
              "    <tr>\n",
              "      <th>4</th>\n",
              "      <td>You, sir, are my hero. Any chance you remember...</td>\n",
              "      <td>0</td>\n",
              "    </tr>\n",
              "  </tbody>\n",
              "</table>\n",
              "</div>"
            ],
            "text/plain": [
              "                                                text  toxic\n",
              "0  Explanation\\nWhy the edits made under my usern...      0\n",
              "1  D'aww! He matches this background colour I'm s...      0\n",
              "2  Hey man, I'm really not trying to edit war. It...      0\n",
              "3  \"\\nMore\\nI can't make any real suggestions on ...      0\n",
              "4  You, sir, are my hero. Any chance you remember...      0"
            ]
          },
          "execution_count": 5,
          "metadata": {},
          "output_type": "execute_result"
        }
      ],
      "source": [
        "try:\n",
        "    df = pd.read_csv('C:/Users/User/Desktop/Яндекс Практикум/toxic_comments.csv', index_col=0)\n",
        "    print('local')\n",
        "except:\n",
        "    df = pd.read_csv('/datasets/toxic_comments.csv', index_col=0)\n",
        "    print('server')\n",
        "df.head()"
      ]
    },
    {
      "cell_type": "code",
      "execution_count": null,
      "metadata": {
        "scrolled": true,
        "tags": [],
        "id": "PHrqMnvSCp8W",
        "outputId": "8f5f17f3-232c-47b3-f000-2847cefb9df8"
      },
      "outputs": [
        {
          "data": {
            "text/plain": [
              "(159292, 2)"
            ]
          },
          "execution_count": 6,
          "metadata": {},
          "output_type": "execute_result"
        }
      ],
      "source": [
        "df.shape"
      ]
    },
    {
      "cell_type": "markdown",
      "metadata": {
        "id": "S_30IH-ACp8W"
      },
      "source": [
        "### Проверка данных"
      ]
    },
    {
      "cell_type": "code",
      "execution_count": null,
      "metadata": {
        "tags": [],
        "id": "aiiv_lArCp8W",
        "outputId": "5b845576-6c29-4966-ef89-46d891404caf"
      },
      "outputs": [
        {
          "data": {
            "text/plain": [
              "text     0\n",
              "toxic    0\n",
              "dtype: int64"
            ]
          },
          "execution_count": 7,
          "metadata": {},
          "output_type": "execute_result"
        }
      ],
      "source": [
        "df.isna().sum()"
      ]
    },
    {
      "cell_type": "code",
      "execution_count": null,
      "metadata": {
        "tags": [],
        "id": "rTbL6JdlCp8X",
        "outputId": "6c837432-a02b-4ab4-92c7-f5514999bae0"
      },
      "outputs": [
        {
          "data": {
            "text/plain": [
              "0    143106\n",
              "1     16186\n",
              "Name: toxic, dtype: int64"
            ]
          },
          "execution_count": 8,
          "metadata": {},
          "output_type": "execute_result"
        }
      ],
      "source": [
        "df['toxic'].value_counts()"
      ]
    },
    {
      "cell_type": "markdown",
      "metadata": {
        "id": "6aKRcSAvCp8X"
      },
      "source": [
        "**Вывод:** В данных большой дизбаланс классов, токсичых комментариев меньше (более чем в 10 раз)."
      ]
    },
    {
      "cell_type": "markdown",
      "metadata": {
        "id": "UsZYM26ZCp8X"
      },
      "source": [
        "### Подготовка данных к обучению"
      ]
    },
    {
      "cell_type": "code",
      "execution_count": null,
      "metadata": {
        "tags": [],
        "id": "_CyvRy_4Cp8X",
        "outputId": "acfa5890-6405-4451-a593-8989f055aa41"
      },
      "outputs": [
        {
          "data": {
            "text/plain": [
              "0    Explanation\\nWhy the edits made under my usern...\n",
              "1    D'aww! He matches this background colour I'm s...\n",
              "Name: text, dtype: object"
            ]
          },
          "execution_count": 9,
          "metadata": {},
          "output_type": "execute_result"
        }
      ],
      "source": [
        "corpus = df['text']#.values.astype('U')\n",
        "target = df['toxic']\n",
        "corpus[:2]"
      ]
    },
    {
      "cell_type": "code",
      "execution_count": null,
      "metadata": {
        "id": "cN8IfpaCCp8X",
        "outputId": "889d6283-617c-4d38-e3b8-3d050045d9b2"
      },
      "outputs": [
        {
          "data": {
            "text/plain": [
              "(159292,)"
            ]
          },
          "execution_count": 10,
          "metadata": {},
          "output_type": "execute_result"
        }
      ],
      "source": [
        "corpus.shape"
      ]
    },
    {
      "cell_type": "code",
      "execution_count": null,
      "metadata": {
        "scrolled": true,
        "tags": [],
        "id": "S_-TexwwCp8Y"
      },
      "outputs": [],
      "source": [
        "def clear_text(corpus: np.array) -> np.array:\n",
        "    \"\"\"\n",
        "    Очистить текст от всем символов кроме \" '- \",\n",
        "    Так как они могут иметь смысл в предложении\n",
        "    \"\"\"\n",
        "    cl_corpus = []\n",
        "    for i, text in enumerate(corpus):\n",
        "        cl_txt = re.sub(r\"[^a-zA-Z0-9]\", ' ', text.lower())\n",
        "        cl_corpus.append(\" \".join(cl_txt.split()))\n",
        "    return cl_corpus\n",
        "\n",
        "\n",
        "assert clear_text(np.array([\"Function: didn't test!!\"])) == np.array([\"function didn t test\"])"
      ]
    },
    {
      "cell_type": "code",
      "execution_count": null,
      "metadata": {
        "scrolled": false,
        "tags": [],
        "id": "bbsC5aSRCp8Y",
        "outputId": "4b1b6eca-475f-4ded-e5a1-06bc82e2b2e3"
      },
      "outputs": [
        {
          "data": {
            "text/plain": [
              "['explanation why the edits made under my username hardcore metallica fan were reverted they weren t vandalisms just closure on some gas after i voted at new york dolls fac and please don t remove the template from the talk page since i m retired now 89 205 38 27',\n",
              " 'd aww he matches this background colour i m seemingly stuck with thanks talk 21 51 january 11 2016 utc']"
            ]
          },
          "execution_count": 82,
          "metadata": {},
          "output_type": "execute_result"
        }
      ],
      "source": [
        "cl_corpus = clear_text(corpus)\n",
        "cl_corpus[:2]"
      ]
    },
    {
      "cell_type": "code",
      "execution_count": null,
      "metadata": {
        "id": "VVEsOL9CCp8Y",
        "outputId": "cb7bd935-c5ea-4a37-8d24-3c0bab501793"
      },
      "outputs": [
        {
          "data": {
            "text/plain": [
              "(159292, 1)"
            ]
          },
          "execution_count": 83,
          "metadata": {},
          "output_type": "execute_result"
        }
      ],
      "source": [
        "pd.DataFrame(cl_corpus).shape"
      ]
    },
    {
      "cell_type": "code",
      "execution_count": null,
      "metadata": {
        "tags": [],
        "id": "XVP4h0uiCp8Y"
      },
      "outputs": [],
      "source": [
        "wnl = WordNetLemmatizer()"
      ]
    },
    {
      "cell_type": "code",
      "execution_count": null,
      "metadata": {
        "tags": [],
        "id": "7MBkG70oCp8Y"
      },
      "outputs": [],
      "source": [
        "#word_list = nltk.word_tokenize(cl_corpus[0])\n",
        "#lemmatized_output = ' '.join([wnl.lemmatize(word) for word in word_list])\n",
        "#lemmatized_output\n",
        "#wnl.lemmatize(corpus[0])"
      ]
    },
    {
      "cell_type": "code",
      "execution_count": null,
      "metadata": {
        "tags": [],
        "id": "ZW_dNinkCp8Y"
      },
      "outputs": [],
      "source": [
        "def get_wordnet_pos(tag):\n",
        "    \"\"\"\n",
        "    Перевести тэги частей речи из \"nltk.pos_tag\"\n",
        "    В \"wordnet\"\n",
        "    \"\"\"\n",
        "    if tag.startswith('J'):\n",
        "        return wordnet.ADJ\n",
        "    elif tag.startswith('V'):\n",
        "        return wordnet.VERB\n",
        "    elif tag.startswith('N'):\n",
        "        return wordnet.NOUN\n",
        "    elif tag.startswith('R'):\n",
        "        return wordnet.ADV\n",
        "    else:\n",
        "        return None"
      ]
    },
    {
      "cell_type": "code",
      "execution_count": null,
      "metadata": {
        "tags": [],
        "id": "Tps1PsClCp8Y"
      },
      "outputs": [],
      "source": [
        "def lemmatize_text(text: list) -> list:\n",
        "    \"\"\"\n",
        "    Лемматизировать текст, сначала используя токены,\n",
        "    потом лемматизацию по частям речи\n",
        "    \"\"\"\n",
        "    tokens = word_tokenize(text)\n",
        "    pos_tag = nltk.pos_tag(tokens)\n",
        "    lemmatized_words = []\n",
        "    for token, tag in pos_tag:\n",
        "        wordnet_pos = get_wordnet_pos(tag) or wordnet.NOUN\n",
        "        lemmatized_word = wnl.lemmatize(token, pos=wordnet_pos)\n",
        "        lemmatized_words.append(lemmatized_word)\n",
        "\n",
        "    return ' '.join(lemmatized_words)"
      ]
    },
    {
      "cell_type": "code",
      "execution_count": null,
      "metadata": {
        "scrolled": true,
        "tags": [],
        "id": "MFCNdfJXCp8Y",
        "outputId": "bc5993a1-28ba-4c5a-c098-b2df007afaef"
      },
      "outputs": [
        {
          "ename": "KeyboardInterrupt",
          "evalue": "",
          "output_type": "error",
          "traceback": [
            "\u001b[0;31m---------------------------------------------------------------------------\u001b[0m",
            "\u001b[0;31mKeyboardInterrupt\u001b[0m                         Traceback (most recent call last)",
            "\u001b[0;32m/tmp/ipykernel_60/2451392687.py\u001b[0m in \u001b[0;36m<module>\u001b[0;34m\u001b[0m\n\u001b[0;32m----> 1\u001b[0;31m \u001b[0mlem_corpus\u001b[0m \u001b[0;34m=\u001b[0m \u001b[0;34m[\u001b[0m\u001b[0mlemmatize_text\u001b[0m\u001b[0;34m(\u001b[0m\u001b[0msentence\u001b[0m\u001b[0;34m)\u001b[0m \u001b[0;32mfor\u001b[0m \u001b[0msentence\u001b[0m \u001b[0;32min\u001b[0m \u001b[0mcl_corpus\u001b[0m\u001b[0;34m]\u001b[0m\u001b[0;34m\u001b[0m\u001b[0;34m\u001b[0m\u001b[0m\n\u001b[0m\u001b[1;32m      2\u001b[0m \u001b[0mpd\u001b[0m\u001b[0;34m.\u001b[0m\u001b[0mDataFrame\u001b[0m\u001b[0;34m(\u001b[0m\u001b[0mlem_corpus\u001b[0m\u001b[0;34m[\u001b[0m\u001b[0;34m:\u001b[0m\u001b[0;36m5\u001b[0m\u001b[0;34m]\u001b[0m\u001b[0;34m)\u001b[0m\u001b[0;34m\u001b[0m\u001b[0;34m\u001b[0m\u001b[0m\n",
            "\u001b[0;32m/tmp/ipykernel_60/2451392687.py\u001b[0m in \u001b[0;36m<listcomp>\u001b[0;34m(.0)\u001b[0m\n\u001b[0;32m----> 1\u001b[0;31m \u001b[0mlem_corpus\u001b[0m \u001b[0;34m=\u001b[0m \u001b[0;34m[\u001b[0m\u001b[0mlemmatize_text\u001b[0m\u001b[0;34m(\u001b[0m\u001b[0msentence\u001b[0m\u001b[0;34m)\u001b[0m \u001b[0;32mfor\u001b[0m \u001b[0msentence\u001b[0m \u001b[0;32min\u001b[0m \u001b[0mcl_corpus\u001b[0m\u001b[0;34m]\u001b[0m\u001b[0;34m\u001b[0m\u001b[0;34m\u001b[0m\u001b[0m\n\u001b[0m\u001b[1;32m      2\u001b[0m \u001b[0mpd\u001b[0m\u001b[0;34m.\u001b[0m\u001b[0mDataFrame\u001b[0m\u001b[0;34m(\u001b[0m\u001b[0mlem_corpus\u001b[0m\u001b[0;34m[\u001b[0m\u001b[0;34m:\u001b[0m\u001b[0;36m5\u001b[0m\u001b[0;34m]\u001b[0m\u001b[0;34m)\u001b[0m\u001b[0;34m\u001b[0m\u001b[0;34m\u001b[0m\u001b[0m\n",
            "\u001b[0;32m/tmp/ipykernel_60/784407828.py\u001b[0m in \u001b[0;36mlemmatize_text\u001b[0;34m(text)\u001b[0m\n\u001b[1;32m      5\u001b[0m     \"\"\"\n\u001b[1;32m      6\u001b[0m     \u001b[0mtokens\u001b[0m \u001b[0;34m=\u001b[0m \u001b[0mword_tokenize\u001b[0m\u001b[0;34m(\u001b[0m\u001b[0mtext\u001b[0m\u001b[0;34m)\u001b[0m\u001b[0;34m\u001b[0m\u001b[0;34m\u001b[0m\u001b[0m\n\u001b[0;32m----> 7\u001b[0;31m     \u001b[0mpos_tag\u001b[0m \u001b[0;34m=\u001b[0m \u001b[0mnltk\u001b[0m\u001b[0;34m.\u001b[0m\u001b[0mpos_tag\u001b[0m\u001b[0;34m(\u001b[0m\u001b[0mtokens\u001b[0m\u001b[0;34m)\u001b[0m\u001b[0;34m\u001b[0m\u001b[0;34m\u001b[0m\u001b[0m\n\u001b[0m\u001b[1;32m      8\u001b[0m     \u001b[0mlemmatized_words\u001b[0m \u001b[0;34m=\u001b[0m \u001b[0;34m[\u001b[0m\u001b[0;34m]\u001b[0m\u001b[0;34m\u001b[0m\u001b[0;34m\u001b[0m\u001b[0m\n\u001b[1;32m      9\u001b[0m     \u001b[0;32mfor\u001b[0m \u001b[0mtoken\u001b[0m\u001b[0;34m,\u001b[0m \u001b[0mtag\u001b[0m \u001b[0;32min\u001b[0m \u001b[0mpos_tag\u001b[0m\u001b[0;34m:\u001b[0m\u001b[0;34m\u001b[0m\u001b[0;34m\u001b[0m\u001b[0m\n",
            "\u001b[0;32m/opt/conda/lib/python3.9/site-packages/nltk/tag/__init__.py\u001b[0m in \u001b[0;36mpos_tag\u001b[0;34m(tokens, tagset, lang)\u001b[0m\n\u001b[1;32m    163\u001b[0m     \"\"\"\n\u001b[1;32m    164\u001b[0m     \u001b[0mtagger\u001b[0m \u001b[0;34m=\u001b[0m \u001b[0m_get_tagger\u001b[0m\u001b[0;34m(\u001b[0m\u001b[0mlang\u001b[0m\u001b[0;34m)\u001b[0m\u001b[0;34m\u001b[0m\u001b[0;34m\u001b[0m\u001b[0m\n\u001b[0;32m--> 165\u001b[0;31m     \u001b[0;32mreturn\u001b[0m \u001b[0m_pos_tag\u001b[0m\u001b[0;34m(\u001b[0m\u001b[0mtokens\u001b[0m\u001b[0;34m,\u001b[0m \u001b[0mtagset\u001b[0m\u001b[0;34m,\u001b[0m \u001b[0mtagger\u001b[0m\u001b[0;34m,\u001b[0m \u001b[0mlang\u001b[0m\u001b[0;34m)\u001b[0m\u001b[0;34m\u001b[0m\u001b[0;34m\u001b[0m\u001b[0m\n\u001b[0m\u001b[1;32m    166\u001b[0m \u001b[0;34m\u001b[0m\u001b[0m\n\u001b[1;32m    167\u001b[0m \u001b[0;34m\u001b[0m\u001b[0m\n",
            "\u001b[0;32m/opt/conda/lib/python3.9/site-packages/nltk/tag/__init__.py\u001b[0m in \u001b[0;36m_pos_tag\u001b[0;34m(tokens, tagset, tagger, lang)\u001b[0m\n\u001b[1;32m    120\u001b[0m \u001b[0;34m\u001b[0m\u001b[0m\n\u001b[1;32m    121\u001b[0m     \u001b[0;32melse\u001b[0m\u001b[0;34m:\u001b[0m\u001b[0;34m\u001b[0m\u001b[0;34m\u001b[0m\u001b[0m\n\u001b[0;32m--> 122\u001b[0;31m         \u001b[0mtagged_tokens\u001b[0m \u001b[0;34m=\u001b[0m \u001b[0mtagger\u001b[0m\u001b[0;34m.\u001b[0m\u001b[0mtag\u001b[0m\u001b[0;34m(\u001b[0m\u001b[0mtokens\u001b[0m\u001b[0;34m)\u001b[0m\u001b[0;34m\u001b[0m\u001b[0;34m\u001b[0m\u001b[0m\n\u001b[0m\u001b[1;32m    123\u001b[0m         \u001b[0;32mif\u001b[0m \u001b[0mtagset\u001b[0m\u001b[0;34m:\u001b[0m  \u001b[0;31m# Maps to the specified tagset.\u001b[0m\u001b[0;34m\u001b[0m\u001b[0;34m\u001b[0m\u001b[0m\n\u001b[1;32m    124\u001b[0m             \u001b[0;32mif\u001b[0m \u001b[0mlang\u001b[0m \u001b[0;34m==\u001b[0m \u001b[0;34m\"eng\"\u001b[0m\u001b[0;34m:\u001b[0m\u001b[0;34m\u001b[0m\u001b[0;34m\u001b[0m\u001b[0m\n",
            "\u001b[0;32m/opt/conda/lib/python3.9/site-packages/nltk/tag/perceptron.py\u001b[0m in \u001b[0;36mtag\u001b[0;34m(self, tokens, return_conf, use_tagdict)\u001b[0m\n\u001b[1;32m    186\u001b[0m             \u001b[0;32mif\u001b[0m \u001b[0;32mnot\u001b[0m \u001b[0mtag\u001b[0m\u001b[0;34m:\u001b[0m\u001b[0;34m\u001b[0m\u001b[0;34m\u001b[0m\u001b[0m\n\u001b[1;32m    187\u001b[0m                 \u001b[0mfeatures\u001b[0m \u001b[0;34m=\u001b[0m \u001b[0mself\u001b[0m\u001b[0;34m.\u001b[0m\u001b[0m_get_features\u001b[0m\u001b[0;34m(\u001b[0m\u001b[0mi\u001b[0m\u001b[0;34m,\u001b[0m \u001b[0mword\u001b[0m\u001b[0;34m,\u001b[0m \u001b[0mcontext\u001b[0m\u001b[0;34m,\u001b[0m \u001b[0mprev\u001b[0m\u001b[0;34m,\u001b[0m \u001b[0mprev2\u001b[0m\u001b[0;34m)\u001b[0m\u001b[0;34m\u001b[0m\u001b[0;34m\u001b[0m\u001b[0m\n\u001b[0;32m--> 188\u001b[0;31m                 \u001b[0mtag\u001b[0m\u001b[0;34m,\u001b[0m \u001b[0mconf\u001b[0m \u001b[0;34m=\u001b[0m \u001b[0mself\u001b[0m\u001b[0;34m.\u001b[0m\u001b[0mmodel\u001b[0m\u001b[0;34m.\u001b[0m\u001b[0mpredict\u001b[0m\u001b[0;34m(\u001b[0m\u001b[0mfeatures\u001b[0m\u001b[0;34m,\u001b[0m \u001b[0mreturn_conf\u001b[0m\u001b[0;34m)\u001b[0m\u001b[0;34m\u001b[0m\u001b[0;34m\u001b[0m\u001b[0m\n\u001b[0m\u001b[1;32m    189\u001b[0m             \u001b[0moutput\u001b[0m\u001b[0;34m.\u001b[0m\u001b[0mappend\u001b[0m\u001b[0;34m(\u001b[0m\u001b[0;34m(\u001b[0m\u001b[0mword\u001b[0m\u001b[0;34m,\u001b[0m \u001b[0mtag\u001b[0m\u001b[0;34m,\u001b[0m \u001b[0mconf\u001b[0m\u001b[0;34m)\u001b[0m \u001b[0;32mif\u001b[0m \u001b[0mreturn_conf\u001b[0m \u001b[0;34m==\u001b[0m \u001b[0;32mTrue\u001b[0m \u001b[0;32melse\u001b[0m \u001b[0;34m(\u001b[0m\u001b[0mword\u001b[0m\u001b[0;34m,\u001b[0m \u001b[0mtag\u001b[0m\u001b[0;34m)\u001b[0m\u001b[0;34m)\u001b[0m\u001b[0;34m\u001b[0m\u001b[0;34m\u001b[0m\u001b[0m\n\u001b[1;32m    190\u001b[0m \u001b[0;34m\u001b[0m\u001b[0m\n",
            "\u001b[0;32m/opt/conda/lib/python3.9/site-packages/nltk/tag/perceptron.py\u001b[0m in \u001b[0;36mpredict\u001b[0;34m(self, features, return_conf)\u001b[0m\n\u001b[1;32m     61\u001b[0m         \u001b[0mscores\u001b[0m \u001b[0;34m=\u001b[0m \u001b[0mdefaultdict\u001b[0m\u001b[0;34m(\u001b[0m\u001b[0mfloat\u001b[0m\u001b[0;34m)\u001b[0m\u001b[0;34m\u001b[0m\u001b[0;34m\u001b[0m\u001b[0m\n\u001b[1;32m     62\u001b[0m         \u001b[0;32mfor\u001b[0m \u001b[0mfeat\u001b[0m\u001b[0;34m,\u001b[0m \u001b[0mvalue\u001b[0m \u001b[0;32min\u001b[0m \u001b[0mfeatures\u001b[0m\u001b[0;34m.\u001b[0m\u001b[0mitems\u001b[0m\u001b[0;34m(\u001b[0m\u001b[0;34m)\u001b[0m\u001b[0;34m:\u001b[0m\u001b[0;34m\u001b[0m\u001b[0;34m\u001b[0m\u001b[0m\n\u001b[0;32m---> 63\u001b[0;31m             \u001b[0;32mif\u001b[0m \u001b[0mfeat\u001b[0m \u001b[0;32mnot\u001b[0m \u001b[0;32min\u001b[0m \u001b[0mself\u001b[0m\u001b[0;34m.\u001b[0m\u001b[0mweights\u001b[0m \u001b[0;32mor\u001b[0m \u001b[0mvalue\u001b[0m \u001b[0;34m==\u001b[0m \u001b[0;36m0\u001b[0m\u001b[0;34m:\u001b[0m\u001b[0;34m\u001b[0m\u001b[0;34m\u001b[0m\u001b[0m\n\u001b[0m\u001b[1;32m     64\u001b[0m                 \u001b[0;32mcontinue\u001b[0m\u001b[0;34m\u001b[0m\u001b[0;34m\u001b[0m\u001b[0m\n\u001b[1;32m     65\u001b[0m             \u001b[0mweights\u001b[0m \u001b[0;34m=\u001b[0m \u001b[0mself\u001b[0m\u001b[0;34m.\u001b[0m\u001b[0mweights\u001b[0m\u001b[0;34m[\u001b[0m\u001b[0mfeat\u001b[0m\u001b[0;34m]\u001b[0m\u001b[0;34m\u001b[0m\u001b[0;34m\u001b[0m\u001b[0m\n",
            "\u001b[0;31mKeyboardInterrupt\u001b[0m: "
          ]
        }
      ],
      "source": [
        "lem_corpus = [lemmatize_text(sentence) for sentence in cl_corpus]\n",
        "pd.DataFrame(lem_corpus[:5])"
      ]
    },
    {
      "cell_type": "code",
      "execution_count": null,
      "metadata": {
        "scrolled": false,
        "tags": [],
        "id": "wnAIItsHCp8Z",
        "outputId": "8c50d77d-9dc5-4364-e8bf-f933fe162c67"
      },
      "outputs": [
        {
          "data": {
            "text/html": [
              "<div>\n",
              "<style scoped>\n",
              "    .dataframe tbody tr th:only-of-type {\n",
              "        vertical-align: middle;\n",
              "    }\n",
              "\n",
              "    .dataframe tbody tr th {\n",
              "        vertical-align: top;\n",
              "    }\n",
              "\n",
              "    .dataframe thead th {\n",
              "        text-align: right;\n",
              "    }\n",
              "</style>\n",
              "<table border=\"1\" class=\"dataframe\">\n",
              "  <thead>\n",
              "    <tr style=\"text-align: right;\">\n",
              "      <th></th>\n",
              "      <th>text</th>\n",
              "    </tr>\n",
              "  </thead>\n",
              "  <tbody>\n",
              "    <tr>\n",
              "      <th>0</th>\n",
              "      <td>Explanation\\nWhy the edits made under my usern...</td>\n",
              "    </tr>\n",
              "    <tr>\n",
              "      <th>1</th>\n",
              "      <td>D'aww! He matches this background colour I'm s...</td>\n",
              "    </tr>\n",
              "    <tr>\n",
              "      <th>2</th>\n",
              "      <td>Hey man, I'm really not trying to edit war. It...</td>\n",
              "    </tr>\n",
              "  </tbody>\n",
              "</table>\n",
              "</div>"
            ],
            "text/plain": [
              "                                                text\n",
              "0  Explanation\\nWhy the edits made under my usern...\n",
              "1  D'aww! He matches this background colour I'm s...\n",
              "2  Hey man, I'm really not trying to edit war. It..."
            ]
          },
          "execution_count": 89,
          "metadata": {},
          "output_type": "execute_result"
        }
      ],
      "source": [
        "pd.DataFrame(corpus[:3])"
      ]
    },
    {
      "cell_type": "code",
      "execution_count": null,
      "metadata": {
        "id": "mYpMr6OFCp8Z",
        "outputId": "33cf59bd-9595-4887-ca2f-d983ad00a79c"
      },
      "outputs": [
        {
          "data": {
            "text/plain": [
              "\"yes dominican republic-importance wikiproject african diaspora class start importance top no professor amar describe the incorporation of the 2a use future tense language clearly the incorporation have not happen yet accord to that preeminent expert on this topic fred newman i really see no need to threaten block my editingthe reason i have ask for a delineation of what be problematic viz blp be precisely so i could know which source to use or not use a threat seem a bit drasticas simple please find an alternate source would be sufficient and give the dozen of reference i have already add to what be a largely unsourced article i think it 's an unfair commentary on the good faith i have demonstrate thus far despite the constant hostility and personal attack etc from the demonstrably fanatical newmanophobes thank you user p00p could you take a look at there might not have be any positive pressure - that be the point of the first commenter 80 47 102 164 he be appoint a coordinator for ifbm programme and this be there in article with reference link be here https en wikipedia org w index php title govind kumar singh diff next oldid 661668418 he remove here be reference http www nift ac in downloads ce brochure 29may pdf this be impotent which be remove by him i appreciate if you please discuss before remove anything it be really tedious to find reliable source to improve any article it really hurt when people like you say edit or add content be promotion of someone and their be some interest for your kind information i be volunteer but you seem bias when i look this article history i request admins to look on to this matter and do needful in order of which we have wp or wp synth wp inherit and wp otherstuffexists my opinion that your comment be a non-argument remains i think rockyintown provide enough evidence re the sister be not nuns from the sister ' website why do you mock nun we be not mock nun we be nun we be very dedicate to our call and our vow reflect our commitment to our community look at the work traditional nun do look at the work we do they minister to their community we minister to our community they raise fund for the needy we raise fund for the needy they be educator we be educator see any significant difference the list go on and on the sister ' faq who care read the page on talk julio cort zar and see what other people be say peace\""
            ]
          },
          "execution_count": 71,
          "metadata": {},
          "output_type": "execute_result"
        }
      ],
      "source": [
        "random.seed(10)\n",
        "sample = ' '.join(random.choices(lem_corpus, k=10))\n",
        "sample"
      ]
    },
    {
      "cell_type": "code",
      "execution_count": null,
      "metadata": {
        "tags": [],
        "id": "6yykg0oQCp8c",
        "outputId": "51c4a48a-f5f0-4d6e-e3c4-c862873823b2"
      },
      "outputs": [
        {
          "data": {
            "image/png": "[encoded data removed]",
            "text/plain": [
              "<Figure size 576x576 with 1 Axes>"
            ]
          },
          "metadata": {
            "needs_background": "light"
          },
          "output_type": "display_data"
        }
      ],
      "source": [
        "wordcloud = WordCloud(\n",
        "    width = 10000, height = 10000,\n",
        "    random_state=RANDOM_STATE, collocations=False\n",
        ").generate(sample)\n",
        "\n",
        "plt.figure(figsize = (8, 8), facecolor = None)\n",
        "plt.imshow(wordcloud, interpolation='bilinear')\n",
        "plt.axis(\"off\")\n",
        "plt.show()"
      ]
    },
    {
      "cell_type": "markdown",
      "metadata": {
        "id": "DfBhK7omCp8c"
      },
      "source": [
        "**Вывод:** Данные были очищены, токинезированы, и лемматизированны по частям речи.\n",
        "\n",
        "**P.S.** В данных все-таки есть ошибки обработки, например - \"do n't\", боюсь, что это может влиять на оценку текста и финальную метрику."
      ]
    },
    {
      "cell_type": "markdown",
      "metadata": {
        "id": "HAuLc56NCp8d"
      },
      "source": [
        "## Обучение"
      ]
    },
    {
      "cell_type": "code",
      "execution_count": null,
      "metadata": {
        "scrolled": true,
        "id": "WNjd1Kg1Cp8d",
        "outputId": "4a9ba622-2177-4363-f639-e36bddc0e05f"
      },
      "outputs": [
        {
          "data": {
            "text/plain": [
              "(159292,)"
            ]
          },
          "execution_count": 90,
          "metadata": {},
          "output_type": "execute_result"
        }
      ],
      "source": [
        "corpus.shape"
      ]
    },
    {
      "cell_type": "code",
      "execution_count": null,
      "metadata": {
        "id": "KH7xCpvYCp8e",
        "outputId": "4223359a-e8b5-4808-b39f-540b56ecba04"
      },
      "outputs": [
        {
          "data": {
            "text/plain": [
              "(159292,)"
            ]
          },
          "execution_count": 91,
          "metadata": {},
          "output_type": "execute_result"
        }
      ],
      "source": [
        "target.shape"
      ]
    },
    {
      "cell_type": "code",
      "execution_count": null,
      "metadata": {
        "tags": [],
        "id": "uK6BFBTzCp8e",
        "outputId": "74f07847-e36c-4fb7-9f63-30d1e7362866"
      },
      "outputs": [
        {
          "data": {
            "text/plain": [
              "(119469, 1)"
            ]
          },
          "execution_count": 92,
          "metadata": {},
          "output_type": "execute_result"
        }
      ],
      "source": [
        "X_train, X_test, y_train, y_test = train_test_split(lem_corpus, target, random_state=RANDOM_STATE, stratify=target)\n",
        "pd.DataFrame(X_train).shape"
      ]
    },
    {
      "cell_type": "code",
      "execution_count": null,
      "metadata": {
        "tags": [],
        "id": "lt3fLrvyCp8e"
      },
      "outputs": [],
      "source": [
        "nlp_pipe = Pipeline(\n",
        "    [\n",
        "        ('tf_idf', TfidfVectorizer(stop_words=list(stop_words))), # Пытался добавить , метрика значительно упала\n",
        "        ('models', MultinomialNB()) # Прочитал, что часто используют этц модель для текстов, но показывает она себя ужасно...\n",
        "    ]\n",
        ")"
      ]
    },
    {
      "cell_type": "code",
      "execution_count": null,
      "metadata": {
        "tags": [],
        "id": "Qc_bqk9oCp8e",
        "outputId": "77b038ca-2805-4a40-c6ac-6d97b2deb489"
      },
      "outputs": [
        {
          "data": {
            "text/plain": [
              "Pipeline(steps=[('tf_idf',\n",
              "                 TfidfVectorizer(stop_words=['ve', 'll', 'yours', 'out', 't',\n",
              "                                             \"you've\", \"hadn't\", 'haven',\n",
              "                                             'theirs', 'just', 'can', 'at',\n",
              "                                             'no', 'this', 'what', 'as', 'only',\n",
              "                                             'other', 'that', 'him',\n",
              "                                             'themselves', 'shouldn', 'it',\n",
              "                                             'once', 'didn', 'an', 'wasn',\n",
              "                                             'between', 'more', 'in', ...])),\n",
              "                ('models', MultinomialNB())])"
            ]
          },
          "execution_count": 94,
          "metadata": {},
          "output_type": "execute_result"
        }
      ],
      "source": [
        "nlp_pipe.fit(X_train, y_train)"
      ]
    },
    {
      "cell_type": "code",
      "execution_count": null,
      "metadata": {
        "tags": [],
        "id": "HYJ2vLZgCp8e",
        "outputId": "27680803-e5b4-4c3a-a28d-8c041b269d69"
      },
      "outputs": [
        {
          "data": {
            "text/plain": [
              "0.31861696257474853"
            ]
          },
          "execution_count": 95,
          "metadata": {},
          "output_type": "execute_result"
        }
      ],
      "source": [
        "cross_val_score(nlp_pipe, X_train, y_train, scoring='f1').mean()"
      ]
    },
    {
      "cell_type": "markdown",
      "metadata": {
        "id": "vsq2DjZUCp8e"
      },
      "source": [
        "**Вывод** Создан пайплайy в котром данные преобразуются в числа с помощью \"TfidfVectorizer\", после чего на них обучается модель. Как первичную модель я выбрал \"MultinomialNB\" (в пайплайне описал, почему ее выбрал).\n",
        "\n",
        "Используя эту модель, метрика очень мала (32%)"
      ]
    },
    {
      "cell_type": "markdown",
      "metadata": {
        "id": "Og7smAjSCp8f"
      },
      "source": [
        "### Поиск лучшей модели"
      ]
    },
    {
      "cell_type": "code",
      "execution_count": null,
      "metadata": {
        "tags": [],
        "id": "Wzz-PPhzCp8f"
      },
      "outputs": [],
      "source": [
        "model_grid = [\n",
        "    {\n",
        "        'models': [ComplementNB()]  # Эта должна вроде лучше работать на несбалансированных данных\n",
        "    },\n",
        "    {\n",
        "        'models': [LogisticRegression(solver='liblinear')],\n",
        "        'models__penalty': ['l1', 'l2'],\n",
        "        'models__class_weight': [{0:0.33, 1:0.67}, {0: 0.2, 1: 0.8}, {0: 0.4, 1: 0.6}],\n",
        "        'models__C': [x / 10 for x in range(8, 20, 2)]\n",
        "    },\n",
        "    {\n",
        "        'models': [SGDClassifier(random_state=RANDOM_STATE)],\n",
        "        'models__loss': ['hinge', 'modified_huber', 'squared_hinge']\n",
        "    }\n",
        "]"
      ]
    },
    {
      "cell_type": "code",
      "execution_count": null,
      "metadata": {
        "tags": [],
        "id": "VZ23vXdjCp8f",
        "outputId": "94bf5593-6536-48d7-fa97-73228337d4b0"
      },
      "outputs": [
        {
          "data": {
            "text/plain": [
              "GridSearchCV(cv=3,\n",
              "             estimator=Pipeline(steps=[('tf_idf',\n",
              "                                        TfidfVectorizer(stop_words=['ve', 'll',\n",
              "                                                                    'yours',\n",
              "                                                                    'out', 't',\n",
              "                                                                    \"you've\",\n",
              "                                                                    \"hadn't\",\n",
              "                                                                    'haven',\n",
              "                                                                    'theirs',\n",
              "                                                                    'just',\n",
              "                                                                    'can', 'at',\n",
              "                                                                    'no',\n",
              "                                                                    'this',\n",
              "                                                                    'what',\n",
              "                                                                    'as',\n",
              "                                                                    'only',\n",
              "                                                                    'other',\n",
              "                                                                    'that',\n",
              "                                                                    'him',\n",
              "                                                                    'themselves',\n",
              "                                                                    'shouldn',\n",
              "                                                                    'it',\n",
              "                                                                    'once',\n",
              "                                                                    'didn',\n",
              "                                                                    'an',\n",
              "                                                                    'wasn',\n",
              "                                                                    'between',\n",
              "                                                                    'more',\n",
              "                                                                    'in', ...])),\n",
              "                                       ('models', MultinomialNB())]),\n",
              "             n_jobs=-1,\n",
              "             param_grid=[{...\n",
              "                         {'models': [LogisticRegression(C=1.8,\n",
              "                                                        class_weight={0: 0.33,\n",
              "                                                                      1: 0.67},\n",
              "                                                        penalty='l1',\n",
              "                                                        solver='liblinear')],\n",
              "                          'models__C': [0.8, 1.0, 1.2, 1.4, 1.6, 1.8],\n",
              "                          'models__class_weight': [{0: 0.33, 1: 0.67},\n",
              "                                                   {0: 0.2, 1: 0.8},\n",
              "                                                   {0: 0.4, 1: 0.6}],\n",
              "                          'models__penalty': ['l1', 'l2']},\n",
              "                         {'models': [SGDClassifier(random_state=42)],\n",
              "                          'models__loss': ['hinge', 'modified_huber',\n",
              "                                           'squared_hinge']}],\n",
              "             scoring='f1')"
            ]
          },
          "execution_count": 100,
          "metadata": {},
          "output_type": "execute_result"
        }
      ],
      "source": [
        "grid_search = GridSearchCV(\n",
        "    nlp_pipe,\n",
        "    model_grid,\n",
        "    cv=3,\n",
        "    scoring='f1',\n",
        "    n_jobs=-1\n",
        ")\n",
        "grid_search.fit(X_train, y_train)"
      ]
    },
    {
      "cell_type": "code",
      "execution_count": null,
      "metadata": {
        "tags": [],
        "id": "5TiczaROCp8f",
        "outputId": "b7ab2cc6-9947-4c4b-9f85-6b75e2c3ca5b"
      },
      "outputs": [
        {
          "data": {
            "text/plain": [
              "Pipeline(steps=[('tf_idf',\n",
              "                 TfidfVectorizer(stop_words=['ve', 'll', 'yours', 'out', 't',\n",
              "                                             \"you've\", \"hadn't\", 'haven',\n",
              "                                             'theirs', 'just', 'can', 'at',\n",
              "                                             'no', 'this', 'what', 'as', 'only',\n",
              "                                             'other', 'that', 'him',\n",
              "                                             'themselves', 'shouldn', 'it',\n",
              "                                             'once', 'didn', 'an', 'wasn',\n",
              "                                             'between', 'more', 'in', ...])),\n",
              "                ('models',\n",
              "                 LogisticRegression(C=1.8, class_weight={0: 0.33, 1: 0.67},\n",
              "                                    penalty='l1', solver='liblinear'))])"
            ]
          },
          "execution_count": 101,
          "metadata": {},
          "output_type": "execute_result"
        }
      ],
      "source": [
        "grid_search.best_estimator_"
      ]
    },
    {
      "cell_type": "code",
      "execution_count": null,
      "metadata": {
        "tags": [],
        "id": "GgzNC_aCCp8f",
        "outputId": "4a0a62bc-e01b-43c2-a0df-3b246a4e7027"
      },
      "outputs": [
        {
          "data": {
            "text/plain": [
              "0.7810716455995123"
            ]
          },
          "execution_count": 102,
          "metadata": {},
          "output_type": "execute_result"
        }
      ],
      "source": [
        "grid_search.best_score_"
      ]
    },
    {
      "cell_type": "code",
      "execution_count": null,
      "metadata": {
        "jupyter": {
          "outputs_hidden": true
        },
        "tags": [],
        "id": "50ZtkYITCp8g",
        "outputId": "88bc4153-dc5a-4025-b3af-d35e3f0b19c9"
      },
      "outputs": [
        {
          "data": {
            "text/html": [
              "<div>\n",
              "<style scoped>\n",
              "    .dataframe tbody tr th:only-of-type {\n",
              "        vertical-align: middle;\n",
              "    }\n",
              "\n",
              "    .dataframe tbody tr th {\n",
              "        vertical-align: top;\n",
              "    }\n",
              "\n",
              "    .dataframe thead th {\n",
              "        text-align: right;\n",
              "    }\n",
              "</style>\n",
              "<table border=\"1\" class=\"dataframe\">\n",
              "  <thead>\n",
              "    <tr style=\"text-align: right;\">\n",
              "      <th></th>\n",
              "      <th>mean_fit_time</th>\n",
              "      <th>std_fit_time</th>\n",
              "      <th>mean_score_time</th>\n",
              "      <th>std_score_time</th>\n",
              "      <th>param_models</th>\n",
              "      <th>param_models__C</th>\n",
              "      <th>param_models__class_weight</th>\n",
              "      <th>param_models__penalty</th>\n",
              "      <th>param_models__loss</th>\n",
              "      <th>params</th>\n",
              "      <th>split0_test_score</th>\n",
              "      <th>split1_test_score</th>\n",
              "      <th>split2_test_score</th>\n",
              "      <th>mean_test_score</th>\n",
              "      <th>std_test_score</th>\n",
              "      <th>rank_test_score</th>\n",
              "    </tr>\n",
              "  </thead>\n",
              "  <tbody>\n",
              "    <tr>\n",
              "      <th>31</th>\n",
              "      <td>3.857290</td>\n",
              "      <td>0.047079</td>\n",
              "      <td>1.557122</td>\n",
              "      <td>0.026521</td>\n",
              "      <td>LogisticRegression(C=1.8, class_weight={0: 0.3...</td>\n",
              "      <td>1.8</td>\n",
              "      <td>{0: 0.33, 1: 0.67}</td>\n",
              "      <td>l1</td>\n",
              "      <td>NaN</td>\n",
              "      <td>{'models': LogisticRegression(C=1.8, class_wei...</td>\n",
              "      <td>0.780744</td>\n",
              "      <td>0.782563</td>\n",
              "      <td>0.779907</td>\n",
              "      <td>0.781072</td>\n",
              "      <td>0.001109</td>\n",
              "      <td>1</td>\n",
              "    </tr>\n",
              "    <tr>\n",
              "      <th>25</th>\n",
              "      <td>3.792360</td>\n",
              "      <td>0.045317</td>\n",
              "      <td>1.564274</td>\n",
              "      <td>0.011501</td>\n",
              "      <td>LogisticRegression(C=1.8, class_weight={0: 0.3...</td>\n",
              "      <td>1.6</td>\n",
              "      <td>{0: 0.33, 1: 0.67}</td>\n",
              "      <td>l1</td>\n",
              "      <td>NaN</td>\n",
              "      <td>{'models': LogisticRegression(C=1.8, class_wei...</td>\n",
              "      <td>0.778908</td>\n",
              "      <td>0.781336</td>\n",
              "      <td>0.777881</td>\n",
              "      <td>0.779375</td>\n",
              "      <td>0.001449</td>\n",
              "      <td>2</td>\n",
              "    </tr>\n",
              "    <tr>\n",
              "      <th>19</th>\n",
              "      <td>3.825576</td>\n",
              "      <td>0.026265</td>\n",
              "      <td>1.570505</td>\n",
              "      <td>0.028935</td>\n",
              "      <td>LogisticRegression(C=1.8, class_weight={0: 0.3...</td>\n",
              "      <td>1.4</td>\n",
              "      <td>{0: 0.33, 1: 0.67}</td>\n",
              "      <td>l1</td>\n",
              "      <td>NaN</td>\n",
              "      <td>{'models': LogisticRegression(C=1.8, class_wei...</td>\n",
              "      <td>0.777231</td>\n",
              "      <td>0.779796</td>\n",
              "      <td>0.775608</td>\n",
              "      <td>0.777545</td>\n",
              "      <td>0.001724</td>\n",
              "      <td>3</td>\n",
              "    </tr>\n",
              "    <tr>\n",
              "      <th>35</th>\n",
              "      <td>3.901930</td>\n",
              "      <td>0.041196</td>\n",
              "      <td>1.604419</td>\n",
              "      <td>0.029001</td>\n",
              "      <td>LogisticRegression(C=1.8, class_weight={0: 0.3...</td>\n",
              "      <td>1.8</td>\n",
              "      <td>{0: 0.4, 1: 0.6}</td>\n",
              "      <td>l1</td>\n",
              "      <td>NaN</td>\n",
              "      <td>{'models': LogisticRegression(C=1.8, class_wei...</td>\n",
              "      <td>0.776115</td>\n",
              "      <td>0.779519</td>\n",
              "      <td>0.773330</td>\n",
              "      <td>0.776321</td>\n",
              "      <td>0.002531</td>\n",
              "      <td>4</td>\n",
              "    </tr>\n",
              "    <tr>\n",
              "      <th>33</th>\n",
              "      <td>3.929312</td>\n",
              "      <td>0.036469</td>\n",
              "      <td>1.566800</td>\n",
              "      <td>0.015848</td>\n",
              "      <td>LogisticRegression(C=1.8, class_weight={0: 0.3...</td>\n",
              "      <td>1.8</td>\n",
              "      <td>{0: 0.2, 1: 0.8}</td>\n",
              "      <td>l1</td>\n",
              "      <td>NaN</td>\n",
              "      <td>{'models': LogisticRegression(C=1.8, class_wei...</td>\n",
              "      <td>0.774812</td>\n",
              "      <td>0.779390</td>\n",
              "      <td>0.774367</td>\n",
              "      <td>0.776190</td>\n",
              "      <td>0.002270</td>\n",
              "      <td>5</td>\n",
              "    </tr>\n",
              "    <tr>\n",
              "      <th>27</th>\n",
              "      <td>3.802151</td>\n",
              "      <td>0.014658</td>\n",
              "      <td>1.570457</td>\n",
              "      <td>0.027210</td>\n",
              "      <td>LogisticRegression(C=1.8, class_weight={0: 0.3...</td>\n",
              "      <td>1.6</td>\n",
              "      <td>{0: 0.2, 1: 0.8}</td>\n",
              "      <td>l1</td>\n",
              "      <td>NaN</td>\n",
              "      <td>{'models': LogisticRegression(C=1.8, class_wei...</td>\n",
              "      <td>0.775177</td>\n",
              "      <td>0.777643</td>\n",
              "      <td>0.772783</td>\n",
              "      <td>0.775201</td>\n",
              "      <td>0.001984</td>\n",
              "      <td>6</td>\n",
              "    </tr>\n",
              "    <tr>\n",
              "      <th>13</th>\n",
              "      <td>3.792101</td>\n",
              "      <td>0.036143</td>\n",
              "      <td>1.548835</td>\n",
              "      <td>0.017342</td>\n",
              "      <td>LogisticRegression(C=1.8, class_weight={0: 0.3...</td>\n",
              "      <td>1.2</td>\n",
              "      <td>{0: 0.33, 1: 0.67}</td>\n",
              "      <td>l1</td>\n",
              "      <td>NaN</td>\n",
              "      <td>{'models': LogisticRegression(C=1.8, class_wei...</td>\n",
              "      <td>0.775680</td>\n",
              "      <td>0.777481</td>\n",
              "      <td>0.770701</td>\n",
              "      <td>0.774621</td>\n",
              "      <td>0.002867</td>\n",
              "      <td>7</td>\n",
              "    </tr>\n",
              "    <tr>\n",
              "      <th>29</th>\n",
              "      <td>3.807705</td>\n",
              "      <td>0.024627</td>\n",
              "      <td>1.542596</td>\n",
              "      <td>0.036491</td>\n",
              "      <td>LogisticRegression(C=1.8, class_weight={0: 0.3...</td>\n",
              "      <td>1.6</td>\n",
              "      <td>{0: 0.4, 1: 0.6}</td>\n",
              "      <td>l1</td>\n",
              "      <td>NaN</td>\n",
              "      <td>{'models': LogisticRegression(C=1.8, class_wei...</td>\n",
              "      <td>0.773435</td>\n",
              "      <td>0.776148</td>\n",
              "      <td>0.771280</td>\n",
              "      <td>0.773621</td>\n",
              "      <td>0.001992</td>\n",
              "      <td>8</td>\n",
              "    </tr>\n",
              "    <tr>\n",
              "      <th>21</th>\n",
              "      <td>3.833446</td>\n",
              "      <td>0.027956</td>\n",
              "      <td>1.552983</td>\n",
              "      <td>0.043825</td>\n",
              "      <td>LogisticRegression(C=1.8, class_weight={0: 0.3...</td>\n",
              "      <td>1.4</td>\n",
              "      <td>{0: 0.2, 1: 0.8}</td>\n",
              "      <td>l1</td>\n",
              "      <td>NaN</td>\n",
              "      <td>{'models': LogisticRegression(C=1.8, class_wei...</td>\n",
              "      <td>0.774170</td>\n",
              "      <td>0.775795</td>\n",
              "      <td>0.770767</td>\n",
              "      <td>0.773577</td>\n",
              "      <td>0.002095</td>\n",
              "      <td>9</td>\n",
              "    </tr>\n",
              "    <tr>\n",
              "      <th>15</th>\n",
              "      <td>3.829568</td>\n",
              "      <td>0.009327</td>\n",
              "      <td>1.568679</td>\n",
              "      <td>0.010256</td>\n",
              "      <td>LogisticRegression(C=1.8, class_weight={0: 0.3...</td>\n",
              "      <td>1.2</td>\n",
              "      <td>{0: 0.2, 1: 0.8}</td>\n",
              "      <td>l1</td>\n",
              "      <td>NaN</td>\n",
              "      <td>{'models': LogisticRegression(C=1.8, class_wei...</td>\n",
              "      <td>0.770880</td>\n",
              "      <td>0.773559</td>\n",
              "      <td>0.771471</td>\n",
              "      <td>0.771970</td>\n",
              "      <td>0.001150</td>\n",
              "      <td>10</td>\n",
              "    </tr>\n",
              "    <tr>\n",
              "      <th>7</th>\n",
              "      <td>3.783040</td>\n",
              "      <td>0.022948</td>\n",
              "      <td>1.572880</td>\n",
              "      <td>0.026979</td>\n",
              "      <td>LogisticRegression(C=1.8, class_weight={0: 0.3...</td>\n",
              "      <td>1.0</td>\n",
              "      <td>{0: 0.33, 1: 0.67}</td>\n",
              "      <td>l1</td>\n",
              "      <td>NaN</td>\n",
              "      <td>{'models': LogisticRegression(C=1.8, class_wei...</td>\n",
              "      <td>0.768710</td>\n",
              "      <td>0.773890</td>\n",
              "      <td>0.768083</td>\n",
              "      <td>0.770227</td>\n",
              "      <td>0.002602</td>\n",
              "      <td>11</td>\n",
              "    </tr>\n",
              "    <tr>\n",
              "      <th>9</th>\n",
              "      <td>3.745934</td>\n",
              "      <td>0.025251</td>\n",
              "      <td>1.546964</td>\n",
              "      <td>0.036757</td>\n",
              "      <td>LogisticRegression(C=1.8, class_weight={0: 0.3...</td>\n",
              "      <td>1.0</td>\n",
              "      <td>{0: 0.2, 1: 0.8}</td>\n",
              "      <td>l1</td>\n",
              "      <td>NaN</td>\n",
              "      <td>{'models': LogisticRegression(C=1.8, class_wei...</td>\n",
              "      <td>0.768638</td>\n",
              "      <td>0.772817</td>\n",
              "      <td>0.769134</td>\n",
              "      <td>0.770197</td>\n",
              "      <td>0.001864</td>\n",
              "      <td>12</td>\n",
              "    </tr>\n",
              "    <tr>\n",
              "      <th>23</th>\n",
              "      <td>3.790432</td>\n",
              "      <td>0.019365</td>\n",
              "      <td>1.566886</td>\n",
              "      <td>0.020135</td>\n",
              "      <td>LogisticRegression(C=1.8, class_weight={0: 0.3...</td>\n",
              "      <td>1.4</td>\n",
              "      <td>{0: 0.4, 1: 0.6}</td>\n",
              "      <td>l1</td>\n",
              "      <td>NaN</td>\n",
              "      <td>{'models': LogisticRegression(C=1.8, class_wei...</td>\n",
              "      <td>0.769548</td>\n",
              "      <td>0.772280</td>\n",
              "      <td>0.768316</td>\n",
              "      <td>0.770048</td>\n",
              "      <td>0.001656</td>\n",
              "      <td>13</td>\n",
              "    </tr>\n",
              "    <tr>\n",
              "      <th>17</th>\n",
              "      <td>3.812228</td>\n",
              "      <td>0.080325</td>\n",
              "      <td>1.547118</td>\n",
              "      <td>0.032739</td>\n",
              "      <td>LogisticRegression(C=1.8, class_weight={0: 0.3...</td>\n",
              "      <td>1.2</td>\n",
              "      <td>{0: 0.4, 1: 0.6}</td>\n",
              "      <td>l1</td>\n",
              "      <td>NaN</td>\n",
              "      <td>{'models': LogisticRegression(C=1.8, class_wei...</td>\n",
              "      <td>0.765857</td>\n",
              "      <td>0.768871</td>\n",
              "      <td>0.764264</td>\n",
              "      <td>0.766330</td>\n",
              "      <td>0.001910</td>\n",
              "      <td>14</td>\n",
              "    </tr>\n",
              "    <tr>\n",
              "      <th>3</th>\n",
              "      <td>3.770147</td>\n",
              "      <td>0.025141</td>\n",
              "      <td>1.570355</td>\n",
              "      <td>0.019737</td>\n",
              "      <td>LogisticRegression(C=1.8, class_weight={0: 0.3...</td>\n",
              "      <td>0.8</td>\n",
              "      <td>{0: 0.2, 1: 0.8}</td>\n",
              "      <td>l1</td>\n",
              "      <td>NaN</td>\n",
              "      <td>{'models': LogisticRegression(C=1.8, class_wei...</td>\n",
              "      <td>0.762313</td>\n",
              "      <td>0.771956</td>\n",
              "      <td>0.764221</td>\n",
              "      <td>0.766163</td>\n",
              "      <td>0.004170</td>\n",
              "      <td>15</td>\n",
              "    </tr>\n",
              "    <tr>\n",
              "      <th>34</th>\n",
              "      <td>8.387620</td>\n",
              "      <td>0.096205</td>\n",
              "      <td>1.607147</td>\n",
              "      <td>0.043128</td>\n",
              "      <td>LogisticRegression(C=1.8, class_weight={0: 0.3...</td>\n",
              "      <td>1.8</td>\n",
              "      <td>{0: 0.2, 1: 0.8}</td>\n",
              "      <td>l2</td>\n",
              "      <td>NaN</td>\n",
              "      <td>{'models': LogisticRegression(C=1.8, class_wei...</td>\n",
              "      <td>0.765877</td>\n",
              "      <td>0.765985</td>\n",
              "      <td>0.764713</td>\n",
              "      <td>0.765525</td>\n",
              "      <td>0.000575</td>\n",
              "      <td>16</td>\n",
              "    </tr>\n",
              "    <tr>\n",
              "      <th>28</th>\n",
              "      <td>8.310467</td>\n",
              "      <td>0.102410</td>\n",
              "      <td>1.742042</td>\n",
              "      <td>0.189152</td>\n",
              "      <td>LogisticRegression(C=1.8, class_weight={0: 0.3...</td>\n",
              "      <td>1.6</td>\n",
              "      <td>{0: 0.2, 1: 0.8}</td>\n",
              "      <td>l2</td>\n",
              "      <td>NaN</td>\n",
              "      <td>{'models': LogisticRegression(C=1.8, class_wei...</td>\n",
              "      <td>0.763627</td>\n",
              "      <td>0.764299</td>\n",
              "      <td>0.762929</td>\n",
              "      <td>0.763618</td>\n",
              "      <td>0.000559</td>\n",
              "      <td>17</td>\n",
              "    </tr>\n",
              "    <tr>\n",
              "      <th>22</th>\n",
              "      <td>8.247845</td>\n",
              "      <td>0.143886</td>\n",
              "      <td>1.574696</td>\n",
              "      <td>0.061413</td>\n",
              "      <td>LogisticRegression(C=1.8, class_weight={0: 0.3...</td>\n",
              "      <td>1.4</td>\n",
              "      <td>{0: 0.2, 1: 0.8}</td>\n",
              "      <td>l2</td>\n",
              "      <td>NaN</td>\n",
              "      <td>{'models': LogisticRegression(C=1.8, class_wei...</td>\n",
              "      <td>0.763599</td>\n",
              "      <td>0.762579</td>\n",
              "      <td>0.761525</td>\n",
              "      <td>0.762568</td>\n",
              "      <td>0.000847</td>\n",
              "      <td>18</td>\n",
              "    </tr>\n",
              "    <tr>\n",
              "      <th>1</th>\n",
              "      <td>3.795217</td>\n",
              "      <td>0.039482</td>\n",
              "      <td>1.551141</td>\n",
              "      <td>0.040697</td>\n",
              "      <td>LogisticRegression(C=1.8, class_weight={0: 0.3...</td>\n",
              "      <td>0.8</td>\n",
              "      <td>{0: 0.33, 1: 0.67}</td>\n",
              "      <td>l1</td>\n",
              "      <td>NaN</td>\n",
              "      <td>{'models': LogisticRegression(C=1.8, class_wei...</td>\n",
              "      <td>0.761774</td>\n",
              "      <td>0.765499</td>\n",
              "      <td>0.759504</td>\n",
              "      <td>0.762259</td>\n",
              "      <td>0.002471</td>\n",
              "      <td>19</td>\n",
              "    </tr>\n",
              "    <tr>\n",
              "      <th>11</th>\n",
              "      <td>3.847143</td>\n",
              "      <td>0.074239</td>\n",
              "      <td>1.575133</td>\n",
              "      <td>0.048846</td>\n",
              "      <td>LogisticRegression(C=1.8, class_weight={0: 0.3...</td>\n",
              "      <td>1.0</td>\n",
              "      <td>{0: 0.4, 1: 0.6}</td>\n",
              "      <td>l1</td>\n",
              "      <td>NaN</td>\n",
              "      <td>{'models': LogisticRegression(C=1.8, class_wei...</td>\n",
              "      <td>0.761092</td>\n",
              "      <td>0.763272</td>\n",
              "      <td>0.758669</td>\n",
              "      <td>0.761011</td>\n",
              "      <td>0.001880</td>\n",
              "      <td>20</td>\n",
              "    </tr>\n",
              "    <tr>\n",
              "      <th>16</th>\n",
              "      <td>7.597197</td>\n",
              "      <td>0.319323</td>\n",
              "      <td>1.622559</td>\n",
              "      <td>0.035310</td>\n",
              "      <td>LogisticRegression(C=1.8, class_weight={0: 0.3...</td>\n",
              "      <td>1.2</td>\n",
              "      <td>{0: 0.2, 1: 0.8}</td>\n",
              "      <td>l2</td>\n",
              "      <td>NaN</td>\n",
              "      <td>{'models': LogisticRegression(C=1.8, class_wei...</td>\n",
              "      <td>0.762089</td>\n",
              "      <td>0.759668</td>\n",
              "      <td>0.759756</td>\n",
              "      <td>0.760504</td>\n",
              "      <td>0.001121</td>\n",
              "      <td>21</td>\n",
              "    </tr>\n",
              "    <tr>\n",
              "      <th>10</th>\n",
              "      <td>7.182614</td>\n",
              "      <td>0.050423</td>\n",
              "      <td>1.568995</td>\n",
              "      <td>0.048904</td>\n",
              "      <td>LogisticRegression(C=1.8, class_weight={0: 0.3...</td>\n",
              "      <td>1.0</td>\n",
              "      <td>{0: 0.2, 1: 0.8}</td>\n",
              "      <td>l2</td>\n",
              "      <td>NaN</td>\n",
              "      <td>{'models': LogisticRegression(C=1.8, class_wei...</td>\n",
              "      <td>0.758944</td>\n",
              "      <td>0.756353</td>\n",
              "      <td>0.757631</td>\n",
              "      <td>0.757643</td>\n",
              "      <td>0.001058</td>\n",
              "      <td>22</td>\n",
              "    </tr>\n",
              "    <tr>\n",
              "      <th>5</th>\n",
              "      <td>3.838001</td>\n",
              "      <td>0.031471</td>\n",
              "      <td>1.599679</td>\n",
              "      <td>0.058931</td>\n",
              "      <td>LogisticRegression(C=1.8, class_weight={0: 0.3...</td>\n",
              "      <td>0.8</td>\n",
              "      <td>{0: 0.4, 1: 0.6}</td>\n",
              "      <td>l1</td>\n",
              "      <td>NaN</td>\n",
              "      <td>{'models': LogisticRegression(C=1.8, class_wei...</td>\n",
              "      <td>0.756343</td>\n",
              "      <td>0.755963</td>\n",
              "      <td>0.749929</td>\n",
              "      <td>0.754078</td>\n",
              "      <td>0.002938</td>\n",
              "      <td>23</td>\n",
              "    </tr>\n",
              "    <tr>\n",
              "      <th>4</th>\n",
              "      <td>7.416283</td>\n",
              "      <td>0.073850</td>\n",
              "      <td>1.669396</td>\n",
              "      <td>0.075973</td>\n",
              "      <td>LogisticRegression(C=1.8, class_weight={0: 0.3...</td>\n",
              "      <td>0.8</td>\n",
              "      <td>{0: 0.2, 1: 0.8}</td>\n",
              "      <td>l2</td>\n",
              "      <td>NaN</td>\n",
              "      <td>{'models': LogisticRegression(C=1.8, class_wei...</td>\n",
              "      <td>0.754995</td>\n",
              "      <td>0.751491</td>\n",
              "      <td>0.753233</td>\n",
              "      <td>0.753240</td>\n",
              "      <td>0.001430</td>\n",
              "      <td>24</td>\n",
              "    </tr>\n",
              "    <tr>\n",
              "      <th>32</th>\n",
              "      <td>9.822261</td>\n",
              "      <td>0.437334</td>\n",
              "      <td>1.639108</td>\n",
              "      <td>0.042766</td>\n",
              "      <td>LogisticRegression(C=1.8, class_weight={0: 0.3...</td>\n",
              "      <td>1.8</td>\n",
              "      <td>{0: 0.33, 1: 0.67}</td>\n",
              "      <td>l2</td>\n",
              "      <td>NaN</td>\n",
              "      <td>{'models': LogisticRegression(C=1.8, class_wei...</td>\n",
              "      <td>0.759843</td>\n",
              "      <td>0.747324</td>\n",
              "      <td>0.752405</td>\n",
              "      <td>0.753191</td>\n",
              "      <td>0.005141</td>\n",
              "      <td>25</td>\n",
              "    </tr>\n",
              "    <tr>\n",
              "      <th>26</th>\n",
              "      <td>9.116599</td>\n",
              "      <td>0.102605</td>\n",
              "      <td>1.604853</td>\n",
              "      <td>0.018665</td>\n",
              "      <td>LogisticRegression(C=1.8, class_weight={0: 0.3...</td>\n",
              "      <td>1.6</td>\n",
              "      <td>{0: 0.33, 1: 0.67}</td>\n",
              "      <td>l2</td>\n",
              "      <td>NaN</td>\n",
              "      <td>{'models': LogisticRegression(C=1.8, class_wei...</td>\n",
              "      <td>0.757996</td>\n",
              "      <td>0.744430</td>\n",
              "      <td>0.749323</td>\n",
              "      <td>0.750583</td>\n",
              "      <td>0.005609</td>\n",
              "      <td>26</td>\n",
              "    </tr>\n",
              "    <tr>\n",
              "      <th>20</th>\n",
              "      <td>9.303293</td>\n",
              "      <td>0.129408</td>\n",
              "      <td>1.556839</td>\n",
              "      <td>0.016596</td>\n",
              "      <td>LogisticRegression(C=1.8, class_weight={0: 0.3...</td>\n",
              "      <td>1.4</td>\n",
              "      <td>{0: 0.33, 1: 0.67}</td>\n",
              "      <td>l2</td>\n",
              "      <td>NaN</td>\n",
              "      <td>{'models': LogisticRegression(C=1.8, class_wei...</td>\n",
              "      <td>0.753673</td>\n",
              "      <td>0.740423</td>\n",
              "      <td>0.744467</td>\n",
              "      <td>0.746188</td>\n",
              "      <td>0.005544</td>\n",
              "      <td>27</td>\n",
              "    </tr>\n",
              "    <tr>\n",
              "      <th>39</th>\n",
              "      <td>3.786023</td>\n",
              "      <td>0.197605</td>\n",
              "      <td>1.583275</td>\n",
              "      <td>0.006279</td>\n",
              "      <td>SGDClassifier(random_state=42)</td>\n",
              "      <td>NaN</td>\n",
              "      <td>NaN</td>\n",
              "      <td>NaN</td>\n",
              "      <td>squared_hinge</td>\n",
              "      <td>{'models': SGDClassifier(random_state=42), 'mo...</td>\n",
              "      <td>0.750913</td>\n",
              "      <td>0.734347</td>\n",
              "      <td>0.736717</td>\n",
              "      <td>0.740659</td>\n",
              "      <td>0.007315</td>\n",
              "      <td>28</td>\n",
              "    </tr>\n",
              "    <tr>\n",
              "      <th>14</th>\n",
              "      <td>8.724448</td>\n",
              "      <td>0.165499</td>\n",
              "      <td>1.616069</td>\n",
              "      <td>0.040794</td>\n",
              "      <td>LogisticRegression(C=1.8, class_weight={0: 0.3...</td>\n",
              "      <td>1.2</td>\n",
              "      <td>{0: 0.33, 1: 0.67}</td>\n",
              "      <td>l2</td>\n",
              "      <td>NaN</td>\n",
              "      <td>{'models': LogisticRegression(C=1.8, class_wei...</td>\n",
              "      <td>0.747189</td>\n",
              "      <td>0.733593</td>\n",
              "      <td>0.738417</td>\n",
              "      <td>0.739733</td>\n",
              "      <td>0.005628</td>\n",
              "      <td>29</td>\n",
              "    </tr>\n",
              "    <tr>\n",
              "      <th>36</th>\n",
              "      <td>10.120530</td>\n",
              "      <td>0.128517</td>\n",
              "      <td>1.659757</td>\n",
              "      <td>0.043673</td>\n",
              "      <td>LogisticRegression(C=1.8, class_weight={0: 0.3...</td>\n",
              "      <td>1.8</td>\n",
              "      <td>{0: 0.4, 1: 0.6}</td>\n",
              "      <td>l2</td>\n",
              "      <td>NaN</td>\n",
              "      <td>{'models': LogisticRegression(C=1.8, class_wei...</td>\n",
              "      <td>0.742615</td>\n",
              "      <td>0.732279</td>\n",
              "      <td>0.736718</td>\n",
              "      <td>0.737204</td>\n",
              "      <td>0.004234</td>\n",
              "      <td>30</td>\n",
              "    </tr>\n",
              "    <tr>\n",
              "      <th>38</th>\n",
              "      <td>3.596635</td>\n",
              "      <td>0.040004</td>\n",
              "      <td>1.584470</td>\n",
              "      <td>0.016827</td>\n",
              "      <td>SGDClassifier(random_state=42)</td>\n",
              "      <td>NaN</td>\n",
              "      <td>NaN</td>\n",
              "      <td>NaN</td>\n",
              "      <td>modified_huber</td>\n",
              "      <td>{'models': SGDClassifier(random_state=42), 'mo...</td>\n",
              "      <td>0.738195</td>\n",
              "      <td>0.733423</td>\n",
              "      <td>0.727931</td>\n",
              "      <td>0.733183</td>\n",
              "      <td>0.004194</td>\n",
              "      <td>31</td>\n",
              "    </tr>\n",
              "    <tr>\n",
              "      <th>30</th>\n",
              "      <td>9.230407</td>\n",
              "      <td>0.091213</td>\n",
              "      <td>1.639985</td>\n",
              "      <td>0.028052</td>\n",
              "      <td>LogisticRegression(C=1.8, class_weight={0: 0.3...</td>\n",
              "      <td>1.6</td>\n",
              "      <td>{0: 0.4, 1: 0.6}</td>\n",
              "      <td>l2</td>\n",
              "      <td>NaN</td>\n",
              "      <td>{'models': LogisticRegression(C=1.8, class_wei...</td>\n",
              "      <td>0.738221</td>\n",
              "      <td>0.727514</td>\n",
              "      <td>0.731534</td>\n",
              "      <td>0.732423</td>\n",
              "      <td>0.004416</td>\n",
              "      <td>32</td>\n",
              "    </tr>\n",
              "    <tr>\n",
              "      <th>8</th>\n",
              "      <td>8.881788</td>\n",
              "      <td>0.135667</td>\n",
              "      <td>1.612444</td>\n",
              "      <td>0.052509</td>\n",
              "      <td>LogisticRegression(C=1.8, class_weight={0: 0.3...</td>\n",
              "      <td>1.0</td>\n",
              "      <td>{0: 0.33, 1: 0.67}</td>\n",
              "      <td>l2</td>\n",
              "      <td>NaN</td>\n",
              "      <td>{'models': LogisticRegression(C=1.8, class_wei...</td>\n",
              "      <td>0.739283</td>\n",
              "      <td>0.725785</td>\n",
              "      <td>0.728208</td>\n",
              "      <td>0.731092</td>\n",
              "      <td>0.005875</td>\n",
              "      <td>33</td>\n",
              "    </tr>\n",
              "    <tr>\n",
              "      <th>24</th>\n",
              "      <td>9.407784</td>\n",
              "      <td>0.445615</td>\n",
              "      <td>1.590934</td>\n",
              "      <td>0.045024</td>\n",
              "      <td>LogisticRegression(C=1.8, class_weight={0: 0.3...</td>\n",
              "      <td>1.4</td>\n",
              "      <td>{0: 0.4, 1: 0.6}</td>\n",
              "      <td>l2</td>\n",
              "      <td>NaN</td>\n",
              "      <td>{'models': LogisticRegression(C=1.8, class_wei...</td>\n",
              "      <td>0.733937</td>\n",
              "      <td>0.722098</td>\n",
              "      <td>0.722513</td>\n",
              "      <td>0.726183</td>\n",
              "      <td>0.005486</td>\n",
              "      <td>34</td>\n",
              "    </tr>\n",
              "    <tr>\n",
              "      <th>2</th>\n",
              "      <td>8.385619</td>\n",
              "      <td>0.466889</td>\n",
              "      <td>1.570102</td>\n",
              "      <td>0.031062</td>\n",
              "      <td>LogisticRegression(C=1.8, class_weight={0: 0.3...</td>\n",
              "      <td>0.8</td>\n",
              "      <td>{0: 0.33, 1: 0.67}</td>\n",
              "      <td>l2</td>\n",
              "      <td>NaN</td>\n",
              "      <td>{'models': LogisticRegression(C=1.8, class_wei...</td>\n",
              "      <td>0.729778</td>\n",
              "      <td>0.716942</td>\n",
              "      <td>0.716101</td>\n",
              "      <td>0.720940</td>\n",
              "      <td>0.006259</td>\n",
              "      <td>35</td>\n",
              "    </tr>\n",
              "    <tr>\n",
              "      <th>18</th>\n",
              "      <td>8.851659</td>\n",
              "      <td>0.157943</td>\n",
              "      <td>1.635078</td>\n",
              "      <td>0.004204</td>\n",
              "      <td>LogisticRegression(C=1.8, class_weight={0: 0.3...</td>\n",
              "      <td>1.2</td>\n",
              "      <td>{0: 0.4, 1: 0.6}</td>\n",
              "      <td>l2</td>\n",
              "      <td>NaN</td>\n",
              "      <td>{'models': LogisticRegression(C=1.8, class_wei...</td>\n",
              "      <td>0.728743</td>\n",
              "      <td>0.715812</td>\n",
              "      <td>0.714869</td>\n",
              "      <td>0.719808</td>\n",
              "      <td>0.006330</td>\n",
              "      <td>36</td>\n",
              "    </tr>\n",
              "    <tr>\n",
              "      <th>12</th>\n",
              "      <td>8.801301</td>\n",
              "      <td>0.076206</td>\n",
              "      <td>1.606041</td>\n",
              "      <td>0.036126</td>\n",
              "      <td>LogisticRegression(C=1.8, class_weight={0: 0.3...</td>\n",
              "      <td>1.0</td>\n",
              "      <td>{0: 0.4, 1: 0.6}</td>\n",
              "      <td>l2</td>\n",
              "      <td>NaN</td>\n",
              "      <td>{'models': LogisticRegression(C=1.8, class_wei...</td>\n",
              "      <td>0.715761</td>\n",
              "      <td>0.706563</td>\n",
              "      <td>0.703806</td>\n",
              "      <td>0.708710</td>\n",
              "      <td>0.005111</td>\n",
              "      <td>37</td>\n",
              "    </tr>\n",
              "    <tr>\n",
              "      <th>6</th>\n",
              "      <td>8.112045</td>\n",
              "      <td>0.154871</td>\n",
              "      <td>1.556688</td>\n",
              "      <td>0.012401</td>\n",
              "      <td>LogisticRegression(C=1.8, class_weight={0: 0.3...</td>\n",
              "      <td>0.8</td>\n",
              "      <td>{0: 0.4, 1: 0.6}</td>\n",
              "      <td>l2</td>\n",
              "      <td>NaN</td>\n",
              "      <td>{'models': LogisticRegression(C=1.8, class_wei...</td>\n",
              "      <td>0.698762</td>\n",
              "      <td>0.691135</td>\n",
              "      <td>0.688847</td>\n",
              "      <td>0.692915</td>\n",
              "      <td>0.004239</td>\n",
              "      <td>38</td>\n",
              "    </tr>\n",
              "    <tr>\n",
              "      <th>37</th>\n",
              "      <td>3.586431</td>\n",
              "      <td>0.018302</td>\n",
              "      <td>1.580426</td>\n",
              "      <td>0.021685</td>\n",
              "      <td>SGDClassifier(random_state=42)</td>\n",
              "      <td>NaN</td>\n",
              "      <td>NaN</td>\n",
              "      <td>NaN</td>\n",
              "      <td>hinge</td>\n",
              "      <td>{'models': SGDClassifier(random_state=42), 'mo...</td>\n",
              "      <td>0.630966</td>\n",
              "      <td>0.627884</td>\n",
              "      <td>0.630843</td>\n",
              "      <td>0.629898</td>\n",
              "      <td>0.001425</td>\n",
              "      <td>39</td>\n",
              "    </tr>\n",
              "    <tr>\n",
              "      <th>0</th>\n",
              "      <td>3.300152</td>\n",
              "      <td>0.012677</td>\n",
              "      <td>1.582473</td>\n",
              "      <td>0.021870</td>\n",
              "      <td>ComplementNB()</td>\n",
              "      <td>NaN</td>\n",
              "      <td>NaN</td>\n",
              "      <td>NaN</td>\n",
              "      <td>NaN</td>\n",
              "      <td>{'models': ComplementNB()}</td>\n",
              "      <td>0.583173</td>\n",
              "      <td>0.567810</td>\n",
              "      <td>0.581888</td>\n",
              "      <td>0.577624</td>\n",
              "      <td>0.006959</td>\n",
              "      <td>40</td>\n",
              "    </tr>\n",
              "  </tbody>\n",
              "</table>\n",
              "</div>"
            ],
            "text/plain": [
              "    mean_fit_time  std_fit_time  mean_score_time  std_score_time  \\\n",
              "31       3.857290      0.047079         1.557122        0.026521   \n",
              "25       3.792360      0.045317         1.564274        0.011501   \n",
              "19       3.825576      0.026265         1.570505        0.028935   \n",
              "35       3.901930      0.041196         1.604419        0.029001   \n",
              "33       3.929312      0.036469         1.566800        0.015848   \n",
              "27       3.802151      0.014658         1.570457        0.027210   \n",
              "13       3.792101      0.036143         1.548835        0.017342   \n",
              "29       3.807705      0.024627         1.542596        0.036491   \n",
              "21       3.833446      0.027956         1.552983        0.043825   \n",
              "15       3.829568      0.009327         1.568679        0.010256   \n",
              "7        3.783040      0.022948         1.572880        0.026979   \n",
              "9        3.745934      0.025251         1.546964        0.036757   \n",
              "23       3.790432      0.019365         1.566886        0.020135   \n",
              "17       3.812228      0.080325         1.547118        0.032739   \n",
              "3        3.770147      0.025141         1.570355        0.019737   \n",
              "34       8.387620      0.096205         1.607147        0.043128   \n",
              "28       8.310467      0.102410         1.742042        0.189152   \n",
              "22       8.247845      0.143886         1.574696        0.061413   \n",
              "1        3.795217      0.039482         1.551141        0.040697   \n",
              "11       3.847143      0.074239         1.575133        0.048846   \n",
              "16       7.597197      0.319323         1.622559        0.035310   \n",
              "10       7.182614      0.050423         1.568995        0.048904   \n",
              "5        3.838001      0.031471         1.599679        0.058931   \n",
              "4        7.416283      0.073850         1.669396        0.075973   \n",
              "32       9.822261      0.437334         1.639108        0.042766   \n",
              "26       9.116599      0.102605         1.604853        0.018665   \n",
              "20       9.303293      0.129408         1.556839        0.016596   \n",
              "39       3.786023      0.197605         1.583275        0.006279   \n",
              "14       8.724448      0.165499         1.616069        0.040794   \n",
              "36      10.120530      0.128517         1.659757        0.043673   \n",
              "38       3.596635      0.040004         1.584470        0.016827   \n",
              "30       9.230407      0.091213         1.639985        0.028052   \n",
              "8        8.881788      0.135667         1.612444        0.052509   \n",
              "24       9.407784      0.445615         1.590934        0.045024   \n",
              "2        8.385619      0.466889         1.570102        0.031062   \n",
              "18       8.851659      0.157943         1.635078        0.004204   \n",
              "12       8.801301      0.076206         1.606041        0.036126   \n",
              "6        8.112045      0.154871         1.556688        0.012401   \n",
              "37       3.586431      0.018302         1.580426        0.021685   \n",
              "0        3.300152      0.012677         1.582473        0.021870   \n",
              "\n",
              "                                         param_models param_models__C  \\\n",
              "31  LogisticRegression(C=1.8, class_weight={0: 0.3...             1.8   \n",
              "25  LogisticRegression(C=1.8, class_weight={0: 0.3...             1.6   \n",
              "19  LogisticRegression(C=1.8, class_weight={0: 0.3...             1.4   \n",
              "35  LogisticRegression(C=1.8, class_weight={0: 0.3...             1.8   \n",
              "33  LogisticRegression(C=1.8, class_weight={0: 0.3...             1.8   \n",
              "27  LogisticRegression(C=1.8, class_weight={0: 0.3...             1.6   \n",
              "13  LogisticRegression(C=1.8, class_weight={0: 0.3...             1.2   \n",
              "29  LogisticRegression(C=1.8, class_weight={0: 0.3...             1.6   \n",
              "21  LogisticRegression(C=1.8, class_weight={0: 0.3...             1.4   \n",
              "15  LogisticRegression(C=1.8, class_weight={0: 0.3...             1.2   \n",
              "7   LogisticRegression(C=1.8, class_weight={0: 0.3...             1.0   \n",
              "9   LogisticRegression(C=1.8, class_weight={0: 0.3...             1.0   \n",
              "23  LogisticRegression(C=1.8, class_weight={0: 0.3...             1.4   \n",
              "17  LogisticRegression(C=1.8, class_weight={0: 0.3...             1.2   \n",
              "3   LogisticRegression(C=1.8, class_weight={0: 0.3...             0.8   \n",
              "34  LogisticRegression(C=1.8, class_weight={0: 0.3...             1.8   \n",
              "28  LogisticRegression(C=1.8, class_weight={0: 0.3...             1.6   \n",
              "22  LogisticRegression(C=1.8, class_weight={0: 0.3...             1.4   \n",
              "1   LogisticRegression(C=1.8, class_weight={0: 0.3...             0.8   \n",
              "11  LogisticRegression(C=1.8, class_weight={0: 0.3...             1.0   \n",
              "16  LogisticRegression(C=1.8, class_weight={0: 0.3...             1.2   \n",
              "10  LogisticRegression(C=1.8, class_weight={0: 0.3...             1.0   \n",
              "5   LogisticRegression(C=1.8, class_weight={0: 0.3...             0.8   \n",
              "4   LogisticRegression(C=1.8, class_weight={0: 0.3...             0.8   \n",
              "32  LogisticRegression(C=1.8, class_weight={0: 0.3...             1.8   \n",
              "26  LogisticRegression(C=1.8, class_weight={0: 0.3...             1.6   \n",
              "20  LogisticRegression(C=1.8, class_weight={0: 0.3...             1.4   \n",
              "39                     SGDClassifier(random_state=42)             NaN   \n",
              "14  LogisticRegression(C=1.8, class_weight={0: 0.3...             1.2   \n",
              "36  LogisticRegression(C=1.8, class_weight={0: 0.3...             1.8   \n",
              "38                     SGDClassifier(random_state=42)             NaN   \n",
              "30  LogisticRegression(C=1.8, class_weight={0: 0.3...             1.6   \n",
              "8   LogisticRegression(C=1.8, class_weight={0: 0.3...             1.0   \n",
              "24  LogisticRegression(C=1.8, class_weight={0: 0.3...             1.4   \n",
              "2   LogisticRegression(C=1.8, class_weight={0: 0.3...             0.8   \n",
              "18  LogisticRegression(C=1.8, class_weight={0: 0.3...             1.2   \n",
              "12  LogisticRegression(C=1.8, class_weight={0: 0.3...             1.0   \n",
              "6   LogisticRegression(C=1.8, class_weight={0: 0.3...             0.8   \n",
              "37                     SGDClassifier(random_state=42)             NaN   \n",
              "0                                      ComplementNB()             NaN   \n",
              "\n",
              "   param_models__class_weight param_models__penalty param_models__loss  \\\n",
              "31         {0: 0.33, 1: 0.67}                    l1                NaN   \n",
              "25         {0: 0.33, 1: 0.67}                    l1                NaN   \n",
              "19         {0: 0.33, 1: 0.67}                    l1                NaN   \n",
              "35           {0: 0.4, 1: 0.6}                    l1                NaN   \n",
              "33           {0: 0.2, 1: 0.8}                    l1                NaN   \n",
              "27           {0: 0.2, 1: 0.8}                    l1                NaN   \n",
              "13         {0: 0.33, 1: 0.67}                    l1                NaN   \n",
              "29           {0: 0.4, 1: 0.6}                    l1                NaN   \n",
              "21           {0: 0.2, 1: 0.8}                    l1                NaN   \n",
              "15           {0: 0.2, 1: 0.8}                    l1                NaN   \n",
              "7          {0: 0.33, 1: 0.67}                    l1                NaN   \n",
              "9            {0: 0.2, 1: 0.8}                    l1                NaN   \n",
              "23           {0: 0.4, 1: 0.6}                    l1                NaN   \n",
              "17           {0: 0.4, 1: 0.6}                    l1                NaN   \n",
              "3            {0: 0.2, 1: 0.8}                    l1                NaN   \n",
              "34           {0: 0.2, 1: 0.8}                    l2                NaN   \n",
              "28           {0: 0.2, 1: 0.8}                    l2                NaN   \n",
              "22           {0: 0.2, 1: 0.8}                    l2                NaN   \n",
              "1          {0: 0.33, 1: 0.67}                    l1                NaN   \n",
              "11           {0: 0.4, 1: 0.6}                    l1                NaN   \n",
              "16           {0: 0.2, 1: 0.8}                    l2                NaN   \n",
              "10           {0: 0.2, 1: 0.8}                    l2                NaN   \n",
              "5            {0: 0.4, 1: 0.6}                    l1                NaN   \n",
              "4            {0: 0.2, 1: 0.8}                    l2                NaN   \n",
              "32         {0: 0.33, 1: 0.67}                    l2                NaN   \n",
              "26         {0: 0.33, 1: 0.67}                    l2                NaN   \n",
              "20         {0: 0.33, 1: 0.67}                    l2                NaN   \n",
              "39                        NaN                   NaN      squared_hinge   \n",
              "14         {0: 0.33, 1: 0.67}                    l2                NaN   \n",
              "36           {0: 0.4, 1: 0.6}                    l2                NaN   \n",
              "38                        NaN                   NaN     modified_huber   \n",
              "30           {0: 0.4, 1: 0.6}                    l2                NaN   \n",
              "8          {0: 0.33, 1: 0.67}                    l2                NaN   \n",
              "24           {0: 0.4, 1: 0.6}                    l2                NaN   \n",
              "2          {0: 0.33, 1: 0.67}                    l2                NaN   \n",
              "18           {0: 0.4, 1: 0.6}                    l2                NaN   \n",
              "12           {0: 0.4, 1: 0.6}                    l2                NaN   \n",
              "6            {0: 0.4, 1: 0.6}                    l2                NaN   \n",
              "37                        NaN                   NaN              hinge   \n",
              "0                         NaN                   NaN                NaN   \n",
              "\n",
              "                                               params  split0_test_score  \\\n",
              "31  {'models': LogisticRegression(C=1.8, class_wei...           0.780744   \n",
              "25  {'models': LogisticRegression(C=1.8, class_wei...           0.778908   \n",
              "19  {'models': LogisticRegression(C=1.8, class_wei...           0.777231   \n",
              "35  {'models': LogisticRegression(C=1.8, class_wei...           0.776115   \n",
              "33  {'models': LogisticRegression(C=1.8, class_wei...           0.774812   \n",
              "27  {'models': LogisticRegression(C=1.8, class_wei...           0.775177   \n",
              "13  {'models': LogisticRegression(C=1.8, class_wei...           0.775680   \n",
              "29  {'models': LogisticRegression(C=1.8, class_wei...           0.773435   \n",
              "21  {'models': LogisticRegression(C=1.8, class_wei...           0.774170   \n",
              "15  {'models': LogisticRegression(C=1.8, class_wei...           0.770880   \n",
              "7   {'models': LogisticRegression(C=1.8, class_wei...           0.768710   \n",
              "9   {'models': LogisticRegression(C=1.8, class_wei...           0.768638   \n",
              "23  {'models': LogisticRegression(C=1.8, class_wei...           0.769548   \n",
              "17  {'models': LogisticRegression(C=1.8, class_wei...           0.765857   \n",
              "3   {'models': LogisticRegression(C=1.8, class_wei...           0.762313   \n",
              "34  {'models': LogisticRegression(C=1.8, class_wei...           0.765877   \n",
              "28  {'models': LogisticRegression(C=1.8, class_wei...           0.763627   \n",
              "22  {'models': LogisticRegression(C=1.8, class_wei...           0.763599   \n",
              "1   {'models': LogisticRegression(C=1.8, class_wei...           0.761774   \n",
              "11  {'models': LogisticRegression(C=1.8, class_wei...           0.761092   \n",
              "16  {'models': LogisticRegression(C=1.8, class_wei...           0.762089   \n",
              "10  {'models': LogisticRegression(C=1.8, class_wei...           0.758944   \n",
              "5   {'models': LogisticRegression(C=1.8, class_wei...           0.756343   \n",
              "4   {'models': LogisticRegression(C=1.8, class_wei...           0.754995   \n",
              "32  {'models': LogisticRegression(C=1.8, class_wei...           0.759843   \n",
              "26  {'models': LogisticRegression(C=1.8, class_wei...           0.757996   \n",
              "20  {'models': LogisticRegression(C=1.8, class_wei...           0.753673   \n",
              "39  {'models': SGDClassifier(random_state=42), 'mo...           0.750913   \n",
              "14  {'models': LogisticRegression(C=1.8, class_wei...           0.747189   \n",
              "36  {'models': LogisticRegression(C=1.8, class_wei...           0.742615   \n",
              "38  {'models': SGDClassifier(random_state=42), 'mo...           0.738195   \n",
              "30  {'models': LogisticRegression(C=1.8, class_wei...           0.738221   \n",
              "8   {'models': LogisticRegression(C=1.8, class_wei...           0.739283   \n",
              "24  {'models': LogisticRegression(C=1.8, class_wei...           0.733937   \n",
              "2   {'models': LogisticRegression(C=1.8, class_wei...           0.729778   \n",
              "18  {'models': LogisticRegression(C=1.8, class_wei...           0.728743   \n",
              "12  {'models': LogisticRegression(C=1.8, class_wei...           0.715761   \n",
              "6   {'models': LogisticRegression(C=1.8, class_wei...           0.698762   \n",
              "37  {'models': SGDClassifier(random_state=42), 'mo...           0.630966   \n",
              "0                          {'models': ComplementNB()}           0.583173   \n",
              "\n",
              "    split1_test_score  split2_test_score  mean_test_score  std_test_score  \\\n",
              "31           0.782563           0.779907         0.781072        0.001109   \n",
              "25           0.781336           0.777881         0.779375        0.001449   \n",
              "19           0.779796           0.775608         0.777545        0.001724   \n",
              "35           0.779519           0.773330         0.776321        0.002531   \n",
              "33           0.779390           0.774367         0.776190        0.002270   \n",
              "27           0.777643           0.772783         0.775201        0.001984   \n",
              "13           0.777481           0.770701         0.774621        0.002867   \n",
              "29           0.776148           0.771280         0.773621        0.001992   \n",
              "21           0.775795           0.770767         0.773577        0.002095   \n",
              "15           0.773559           0.771471         0.771970        0.001150   \n",
              "7            0.773890           0.768083         0.770227        0.002602   \n",
              "9            0.772817           0.769134         0.770197        0.001864   \n",
              "23           0.772280           0.768316         0.770048        0.001656   \n",
              "17           0.768871           0.764264         0.766330        0.001910   \n",
              "3            0.771956           0.764221         0.766163        0.004170   \n",
              "34           0.765985           0.764713         0.765525        0.000575   \n",
              "28           0.764299           0.762929         0.763618        0.000559   \n",
              "22           0.762579           0.761525         0.762568        0.000847   \n",
              "1            0.765499           0.759504         0.762259        0.002471   \n",
              "11           0.763272           0.758669         0.761011        0.001880   \n",
              "16           0.759668           0.759756         0.760504        0.001121   \n",
              "10           0.756353           0.757631         0.757643        0.001058   \n",
              "5            0.755963           0.749929         0.754078        0.002938   \n",
              "4            0.751491           0.753233         0.753240        0.001430   \n",
              "32           0.747324           0.752405         0.753191        0.005141   \n",
              "26           0.744430           0.749323         0.750583        0.005609   \n",
              "20           0.740423           0.744467         0.746188        0.005544   \n",
              "39           0.734347           0.736717         0.740659        0.007315   \n",
              "14           0.733593           0.738417         0.739733        0.005628   \n",
              "36           0.732279           0.736718         0.737204        0.004234   \n",
              "38           0.733423           0.727931         0.733183        0.004194   \n",
              "30           0.727514           0.731534         0.732423        0.004416   \n",
              "8            0.725785           0.728208         0.731092        0.005875   \n",
              "24           0.722098           0.722513         0.726183        0.005486   \n",
              "2            0.716942           0.716101         0.720940        0.006259   \n",
              "18           0.715812           0.714869         0.719808        0.006330   \n",
              "12           0.706563           0.703806         0.708710        0.005111   \n",
              "6            0.691135           0.688847         0.692915        0.004239   \n",
              "37           0.627884           0.630843         0.629898        0.001425   \n",
              "0            0.567810           0.581888         0.577624        0.006959   \n",
              "\n",
              "    rank_test_score  \n",
              "31                1  \n",
              "25                2  \n",
              "19                3  \n",
              "35                4  \n",
              "33                5  \n",
              "27                6  \n",
              "13                7  \n",
              "29                8  \n",
              "21                9  \n",
              "15               10  \n",
              "7                11  \n",
              "9                12  \n",
              "23               13  \n",
              "17               14  \n",
              "3                15  \n",
              "34               16  \n",
              "28               17  \n",
              "22               18  \n",
              "1                19  \n",
              "11               20  \n",
              "16               21  \n",
              "10               22  \n",
              "5                23  \n",
              "4                24  \n",
              "32               25  \n",
              "26               26  \n",
              "20               27  \n",
              "39               28  \n",
              "14               29  \n",
              "36               30  \n",
              "38               31  \n",
              "30               32  \n",
              "8                33  \n",
              "24               34  \n",
              "2                35  \n",
              "18               36  \n",
              "12               37  \n",
              "6                38  \n",
              "37               39  \n",
              "0                40  "
            ]
          },
          "execution_count": 103,
          "metadata": {},
          "output_type": "execute_result"
        }
      ],
      "source": [
        "pd.DataFrame(grid_search.cv_results_).sort_values(by='mean_test_score', ascending=False) # Теперь наивный байес и правда лучше работает"
      ]
    },
    {
      "cell_type": "markdown",
      "metadata": {
        "id": "ZVBa8QO1Cp8g"
      },
      "source": [
        "**Вывод** После подбора моделей и их параметров по сетке метрика значительно улучшилась (78% на кросс валидации)\n",
        "\n",
        "Лучшая модель - Логистическая Регрессия с 'liblinear' ядром."
      ]
    },
    {
      "cell_type": "markdown",
      "metadata": {
        "id": "9sjK4KX6Cp8g"
      },
      "source": [
        "## Предсказания на тестовой выборке"
      ]
    },
    {
      "cell_type": "code",
      "execution_count": null,
      "metadata": {
        "tags": [],
        "id": "1F3saKq6Cp8g"
      },
      "outputs": [],
      "source": [
        "preds = grid_search.best_estimator_.predict(X_test)"
      ]
    },
    {
      "cell_type": "code",
      "execution_count": null,
      "metadata": {
        "tags": [],
        "id": "3rzQTdPPCp8g",
        "outputId": "af434bb0-77f4-4fc4-ecd0-24b5cc26d27e"
      },
      "outputs": [
        {
          "data": {
            "text/plain": [
              "0.7850320554755985"
            ]
          },
          "execution_count": 105,
          "metadata": {},
          "output_type": "execute_result"
        }
      ],
      "source": [
        "f1_score(y_test, preds)"
      ]
    },
    {
      "cell_type": "markdown",
      "metadata": {
        "id": "oXK95kcrCp8g"
      },
      "source": [
        "**Вывод:** На тестовой выборке модель показывает метрику не ниже поставленной в задаче - успех)\n",
        "\n",
        "**P.S.** Потом хотел бы попробовать БЕРТ"
      ]
    },
    {
      "cell_type": "markdown",
      "metadata": {
        "id": "Fl-bspatCp8h"
      },
      "source": [
        "## Выводы"
      ]
    },
    {
      "cell_type": "markdown",
      "metadata": {
        "id": "dGTQX05iCp8h"
      },
      "source": [
        "В течение работы были обработаны и подготовлены данные для обучения моделей классификации тональности текста. Были применены торкенизация, лемматизация и TF-IDF для текстов.\n",
        "\n",
        "Были обучены несколько моделей машинного обучения, они были подобраны так, что справиться с дисбалансом классов в данных. Наилучшим образом себя показала модель линейной регресии с весами классов: {0: 0.33, 1: 0.67}. Ее метрика на тестовых данных - 78.5%."
      ]
    }
  ],
  "metadata": {
    "ExecuteTimeLog": [
      {
        "duration": 464,
        "start_time": "2024-06-18T19:19:41.266Z"
      },
      {
        "duration": 3348,
        "start_time": "2024-06-18T19:19:59.748Z"
      },
      {
        "duration": 954,
        "start_time": "2024-06-18T19:20:35.255Z"
      },
      {
        "duration": 4,
        "start_time": "2024-06-18T19:20:45.037Z"
      },
      {
        "duration": 1040,
        "start_time": "2024-06-18T19:22:24.952Z"
      },
      {
        "duration": 1032,
        "start_time": "2024-06-18T19:22:29.461Z"
      },
      {
        "duration": 2687,
        "start_time": "2024-06-25T19:32:01.416Z"
      },
      {
        "duration": 2342,
        "start_time": "2024-06-25T19:32:04.105Z"
      },
      {
        "duration": 1979,
        "start_time": "2024-06-25T19:32:06.450Z"
      },
      {
        "duration": 175,
        "start_time": "2024-06-25T19:32:08.431Z"
      },
      {
        "duration": 0,
        "start_time": "2024-06-25T19:32:08.608Z"
      },
      {
        "duration": 0,
        "start_time": "2024-06-25T19:32:08.609Z"
      },
      {
        "duration": 0,
        "start_time": "2024-06-25T19:32:08.610Z"
      },
      {
        "duration": 0,
        "start_time": "2024-06-25T19:32:08.611Z"
      },
      {
        "duration": 4,
        "start_time": "2024-06-25T19:32:09.514Z"
      },
      {
        "duration": 9,
        "start_time": "2024-06-25T19:32:10.069Z"
      },
      {
        "duration": 96,
        "start_time": "2024-06-25T19:33:00.173Z"
      },
      {
        "duration": 3384,
        "start_time": "2024-06-25T19:34:39.126Z"
      },
      {
        "duration": 3,
        "start_time": "2024-06-25T19:34:43.324Z"
      },
      {
        "duration": 26,
        "start_time": "2024-06-25T19:34:44.201Z"
      },
      {
        "duration": 6,
        "start_time": "2024-06-25T19:34:44.624Z"
      },
      {
        "duration": 2413,
        "start_time": "2024-06-25T19:34:45.982Z"
      },
      {
        "duration": 3,
        "start_time": "2024-06-25T19:34:52.489Z"
      },
      {
        "duration": 6341,
        "start_time": "2024-06-25T19:34:53.050Z"
      },
      {
        "duration": 7,
        "start_time": "2024-06-25T19:34:59.392Z"
      },
      {
        "duration": 1172,
        "start_time": "2024-06-25T19:34:59.400Z"
      },
      {
        "duration": 3,
        "start_time": "2024-06-25T19:35:02.975Z"
      },
      {
        "duration": 6,
        "start_time": "2024-06-25T19:35:07.096Z"
      },
      {
        "duration": 517802,
        "start_time": "2024-06-25T19:35:07.373Z"
      },
      {
        "duration": 3,
        "start_time": "2024-06-25T19:43:45.177Z"
      },
      {
        "duration": 6,
        "start_time": "2024-06-25T19:45:15.382Z"
      },
      {
        "duration": 11,
        "start_time": "2024-06-25T19:46:30.818Z"
      },
      {
        "duration": 3131,
        "start_time": "2024-06-25T19:46:37.175Z"
      },
      {
        "duration": 82,
        "start_time": "2024-06-25T19:47:13.313Z"
      },
      {
        "duration": 409,
        "start_time": "2024-06-25T19:47:17.913Z"
      },
      {
        "duration": 10,
        "start_time": "2024-06-25T19:47:33.073Z"
      },
      {
        "duration": 13,
        "start_time": "2024-06-25T19:47:36.818Z"
      },
      {
        "duration": 4,
        "start_time": "2024-06-25T19:47:41.702Z"
      },
      {
        "duration": 6,
        "start_time": "2024-06-25T19:47:47.526Z"
      },
      {
        "duration": 46,
        "start_time": "2024-06-25T19:48:36.920Z"
      },
      {
        "duration": 2347,
        "start_time": "2024-06-25T19:49:01.630Z"
      },
      {
        "duration": 2332,
        "start_time": "2024-06-25T19:49:03.979Z"
      },
      {
        "duration": 2347,
        "start_time": "2024-06-25T19:49:06.313Z"
      },
      {
        "duration": 1933,
        "start_time": "2024-06-25T19:49:08.663Z"
      },
      {
        "duration": 3399,
        "start_time": "2024-06-25T19:49:12.112Z"
      },
      {
        "duration": 4,
        "start_time": "2024-06-25T19:49:15.513Z"
      },
      {
        "duration": 27,
        "start_time": "2024-06-25T19:49:16.697Z"
      },
      {
        "duration": 6,
        "start_time": "2024-06-25T19:49:17.114Z"
      },
      {
        "duration": 2248,
        "start_time": "2024-06-25T19:49:18.389Z"
      },
      {
        "duration": 81,
        "start_time": "2024-06-25T19:49:22.487Z"
      },
      {
        "duration": 15,
        "start_time": "2024-06-25T19:49:32.367Z"
      },
      {
        "duration": 10,
        "start_time": "2024-06-25T19:50:05.356Z"
      },
      {
        "duration": 4,
        "start_time": "2024-06-25T19:50:10.485Z"
      },
      {
        "duration": 6472,
        "start_time": "2024-06-25T19:50:14.007Z"
      },
      {
        "duration": 3,
        "start_time": "2024-06-25T19:50:44.035Z"
      },
      {
        "duration": 1219,
        "start_time": "2024-06-25T19:50:45.837Z"
      },
      {
        "duration": 3,
        "start_time": "2024-06-25T19:50:55.468Z"
      },
      {
        "duration": 3,
        "start_time": "2024-06-25T19:50:56.460Z"
      },
      {
        "duration": 501773,
        "start_time": "2024-06-25T19:50:57.316Z"
      },
      {
        "duration": 11,
        "start_time": "2024-06-25T19:59:19.090Z"
      },
      {
        "duration": 2,
        "start_time": "2024-06-25T19:59:52.839Z"
      },
      {
        "duration": 56,
        "start_time": "2024-06-25T20:00:01.838Z"
      },
      {
        "duration": 1669,
        "start_time": "2024-06-25T20:00:10.105Z"
      },
      {
        "duration": 81,
        "start_time": "2024-06-25T20:00:17.114Z"
      },
      {
        "duration": 3,
        "start_time": "2024-06-25T20:00:19.142Z"
      },
      {
        "duration": 101,
        "start_time": "2024-06-26T08:17:37.738Z"
      },
      {
        "duration": 2851,
        "start_time": "2024-06-26T08:18:31.000Z"
      },
      {
        "duration": 2626,
        "start_time": "2024-06-26T08:18:33.854Z"
      },
      {
        "duration": 3391,
        "start_time": "2024-06-26T08:18:36.483Z"
      },
      {
        "duration": 2101,
        "start_time": "2024-06-26T08:18:39.876Z"
      },
      {
        "duration": 3430,
        "start_time": "2024-06-26T08:18:41.979Z"
      },
      {
        "duration": 4,
        "start_time": "2024-06-26T08:18:45.410Z"
      },
      {
        "duration": 87,
        "start_time": "2024-06-26T08:18:45.415Z"
      },
      {
        "duration": 10,
        "start_time": "2024-06-26T08:18:45.504Z"
      },
      {
        "duration": 5,
        "start_time": "2024-06-26T08:18:45.516Z"
      },
      {
        "duration": 26,
        "start_time": "2024-06-26T08:18:45.523Z"
      },
      {
        "duration": 20769,
        "start_time": "2024-06-26T08:18:45.550Z"
      },
      {
        "duration": 2,
        "start_time": "2024-06-26T08:19:06.321Z"
      },
      {
        "duration": 1278,
        "start_time": "2024-06-26T08:19:06.325Z"
      },
      {
        "duration": 3,
        "start_time": "2024-06-26T08:19:07.605Z"
      },
      {
        "duration": 35,
        "start_time": "2024-06-26T08:19:07.610Z"
      },
      {
        "duration": 571944,
        "start_time": "2024-06-26T08:19:07.647Z"
      },
      {
        "duration": 8,
        "start_time": "2024-06-26T08:28:39.593Z"
      },
      {
        "duration": 1096,
        "start_time": "2024-06-26T08:35:46.689Z"
      },
      {
        "duration": 4592,
        "start_time": "2024-06-26T08:36:35.814Z"
      },
      {
        "duration": 3675,
        "start_time": "2024-06-26T08:36:44.253Z"
      },
      {
        "duration": 567,
        "start_time": "2024-06-26T08:36:52.186Z"
      },
      {
        "duration": 3704,
        "start_time": "2024-06-26T08:37:18.934Z"
      },
      {
        "duration": 14,
        "start_time": "2024-06-26T08:37:29.298Z"
      },
      {
        "duration": 587,
        "start_time": "2024-06-26T08:37:35.973Z"
      },
      {
        "duration": 12,
        "start_time": "2024-06-26T08:38:59.891Z"
      },
      {
        "duration": 324,
        "start_time": "2024-06-26T08:39:07.928Z"
      },
      {
        "duration": 3488,
        "start_time": "2024-06-26T08:40:37.508Z"
      },
      {
        "duration": 3623,
        "start_time": "2024-06-26T08:40:42.068Z"
      },
      {
        "duration": 8,
        "start_time": "2024-06-26T08:40:46.281Z"
      },
      {
        "duration": 287,
        "start_time": "2024-06-26T08:40:53.850Z"
      },
      {
        "duration": 540,
        "start_time": "2024-06-26T08:41:21.070Z"
      },
      {
        "duration": 3,
        "start_time": "2024-06-26T08:41:36.720Z"
      },
      {
        "duration": 14,
        "start_time": "2024-06-26T08:41:45.000Z"
      },
      {
        "duration": 3,
        "start_time": "2024-06-26T08:41:45.427Z"
      },
      {
        "duration": 9,
        "start_time": "2024-06-26T08:41:47.655Z"
      },
      {
        "duration": 12,
        "start_time": "2024-06-26T08:41:48.287Z"
      },
      {
        "duration": 2609,
        "start_time": "2024-06-26T08:42:07.956Z"
      },
      {
        "duration": 2621,
        "start_time": "2024-06-26T08:42:10.568Z"
      },
      {
        "duration": 2602,
        "start_time": "2024-06-26T08:42:13.191Z"
      },
      {
        "duration": 3526,
        "start_time": "2024-06-26T08:42:15.795Z"
      },
      {
        "duration": 1680,
        "start_time": "2024-06-26T08:42:19.324Z"
      },
      {
        "duration": 1069,
        "start_time": "2024-06-26T08:42:21.006Z"
      },
      {
        "duration": 4,
        "start_time": "2024-06-26T08:42:22.077Z"
      },
      {
        "duration": 31,
        "start_time": "2024-06-26T08:42:22.082Z"
      },
      {
        "duration": 6,
        "start_time": "2024-06-26T08:42:22.115Z"
      },
      {
        "duration": 9,
        "start_time": "2024-06-26T08:42:22.123Z"
      },
      {
        "duration": 7,
        "start_time": "2024-06-26T08:42:22.154Z"
      },
      {
        "duration": 21234,
        "start_time": "2024-06-26T08:42:22.164Z"
      },
      {
        "duration": 3,
        "start_time": "2024-06-26T08:42:43.401Z"
      },
      {
        "duration": 1315,
        "start_time": "2024-06-26T08:42:43.408Z"
      },
      {
        "duration": 3,
        "start_time": "2024-06-26T08:42:44.725Z"
      },
      {
        "duration": 6,
        "start_time": "2024-06-26T08:42:44.730Z"
      },
      {
        "duration": 583952,
        "start_time": "2024-06-26T08:42:44.738Z"
      },
      {
        "duration": 8,
        "start_time": "2024-06-26T08:52:28.692Z"
      },
      {
        "duration": 67,
        "start_time": "2024-06-26T08:52:28.701Z"
      },
      {
        "duration": 133,
        "start_time": "2024-06-26T08:52:28.770Z"
      },
      {
        "duration": 0,
        "start_time": "2024-06-26T08:52:28.905Z"
      },
      {
        "duration": 0,
        "start_time": "2024-06-26T08:52:28.907Z"
      },
      {
        "duration": 0,
        "start_time": "2024-06-26T08:52:28.908Z"
      },
      {
        "duration": 0,
        "start_time": "2024-06-26T08:52:28.910Z"
      },
      {
        "duration": 0,
        "start_time": "2024-06-26T08:52:28.912Z"
      },
      {
        "duration": 0,
        "start_time": "2024-06-26T08:52:28.913Z"
      },
      {
        "duration": 0,
        "start_time": "2024-06-26T08:52:28.914Z"
      },
      {
        "duration": 0,
        "start_time": "2024-06-26T08:52:28.916Z"
      },
      {
        "duration": 0,
        "start_time": "2024-06-26T08:52:28.917Z"
      },
      {
        "duration": 0,
        "start_time": "2024-06-26T08:52:28.919Z"
      },
      {
        "duration": 4,
        "start_time": "2024-06-26T08:55:33.698Z"
      },
      {
        "duration": 4,
        "start_time": "2024-06-26T08:55:40.379Z"
      },
      {
        "duration": 2286,
        "start_time": "2024-06-26T08:56:09.053Z"
      },
      {
        "duration": 6,
        "start_time": "2024-06-26T08:56:13.365Z"
      },
      {
        "duration": 7340,
        "start_time": "2024-06-26T08:56:15.725Z"
      },
      {
        "duration": 3,
        "start_time": "2024-06-26T08:56:53.195Z"
      },
      {
        "duration": 5,
        "start_time": "2024-06-26T08:56:59.897Z"
      },
      {
        "duration": 4,
        "start_time": "2024-06-26T08:57:01.125Z"
      },
      {
        "duration": 22329,
        "start_time": "2024-06-26T08:57:01.830Z"
      },
      {
        "duration": 6,
        "start_time": "2024-06-26T08:57:30.833Z"
      },
      {
        "duration": 5,
        "start_time": "2024-06-26T09:10:43.767Z"
      },
      {
        "duration": 6,
        "start_time": "2024-06-26T09:10:48.491Z"
      },
      {
        "duration": 4,
        "start_time": "2024-06-26T09:10:49.127Z"
      },
      {
        "duration": 13,
        "start_time": "2024-06-26T09:12:07.163Z"
      },
      {
        "duration": 4,
        "start_time": "2024-06-26T09:12:26.673Z"
      },
      {
        "duration": 4642,
        "start_time": "2024-06-26T09:12:27.531Z"
      },
      {
        "duration": 4,
        "start_time": "2024-06-26T09:12:35.676Z"
      },
      {
        "duration": 4,
        "start_time": "2024-06-26T09:13:04.851Z"
      },
      {
        "duration": 4,
        "start_time": "2024-06-26T09:13:25.283Z"
      },
      {
        "duration": 4,
        "start_time": "2024-06-26T09:13:25.846Z"
      },
      {
        "duration": 4,
        "start_time": "2024-06-26T09:13:29.043Z"
      },
      {
        "duration": 4,
        "start_time": "2024-06-26T09:13:29.845Z"
      },
      {
        "duration": 4422,
        "start_time": "2024-06-26T09:13:33.097Z"
      },
      {
        "duration": 4,
        "start_time": "2024-06-26T09:13:39.325Z"
      },
      {
        "duration": 4,
        "start_time": "2024-06-26T09:13:45.843Z"
      },
      {
        "duration": 28,
        "start_time": "2024-06-26T09:13:46.508Z"
      },
      {
        "duration": 6,
        "start_time": "2024-06-26T09:13:46.908Z"
      },
      {
        "duration": 5,
        "start_time": "2024-06-26T09:13:49.465Z"
      },
      {
        "duration": 4,
        "start_time": "2024-06-26T09:13:49.853Z"
      },
      {
        "duration": 3,
        "start_time": "2024-06-26T09:13:51.113Z"
      },
      {
        "duration": 4,
        "start_time": "2024-06-26T09:13:51.578Z"
      },
      {
        "duration": 4393,
        "start_time": "2024-06-26T09:13:52.750Z"
      },
      {
        "duration": 4,
        "start_time": "2024-06-26T09:14:02.598Z"
      },
      {
        "duration": 3,
        "start_time": "2024-06-26T09:14:03.399Z"
      },
      {
        "duration": 5,
        "start_time": "2024-06-26T09:14:03.993Z"
      },
      {
        "duration": 4,
        "start_time": "2024-06-26T09:14:06.387Z"
      },
      {
        "duration": 4,
        "start_time": "2024-06-26T09:14:06.851Z"
      },
      {
        "duration": 620496,
        "start_time": "2024-06-26T09:14:07.383Z"
      },
      {
        "duration": 8,
        "start_time": "2024-06-26T09:24:27.881Z"
      },
      {
        "duration": 2,
        "start_time": "2024-06-26T09:24:47.867Z"
      },
      {
        "duration": 4,
        "start_time": "2024-06-26T09:24:49.047Z"
      },
      {
        "duration": 4,
        "start_time": "2024-06-26T09:24:49.404Z"
      },
      {
        "duration": 72,
        "start_time": "2024-06-26T09:24:50.262Z"
      },
      {
        "duration": 3,
        "start_time": "2024-06-26T09:24:50.903Z"
      },
      {
        "duration": 6252,
        "start_time": "2024-06-26T09:24:52.271Z"
      },
      {
        "duration": 31998,
        "start_time": "2024-06-26T09:24:58.524Z"
      },
      {
        "duration": 3140,
        "start_time": "2024-06-26T10:17:28.634Z"
      },
      {
        "duration": 2962,
        "start_time": "2024-06-26T10:17:31.776Z"
      },
      {
        "duration": 3718,
        "start_time": "2024-06-26T10:17:34.740Z"
      },
      {
        "duration": 4853,
        "start_time": "2024-06-26T10:17:38.460Z"
      },
      {
        "duration": 4238,
        "start_time": "2024-06-26T10:17:43.315Z"
      },
      {
        "duration": 3080,
        "start_time": "2024-06-26T10:17:47.554Z"
      },
      {
        "duration": 2,
        "start_time": "2024-06-26T10:17:50.636Z"
      },
      {
        "duration": 25,
        "start_time": "2024-06-26T10:17:50.640Z"
      },
      {
        "duration": 4,
        "start_time": "2024-06-26T10:17:50.667Z"
      },
      {
        "duration": 13,
        "start_time": "2024-06-26T10:17:50.673Z"
      },
      {
        "duration": 20,
        "start_time": "2024-06-26T10:17:50.687Z"
      },
      {
        "duration": 13,
        "start_time": "2024-06-26T10:17:50.708Z"
      },
      {
        "duration": 3675,
        "start_time": "2024-06-26T10:17:50.722Z"
      },
      {
        "duration": 4,
        "start_time": "2024-06-26T10:17:54.398Z"
      },
      {
        "duration": 8,
        "start_time": "2024-06-26T10:17:54.404Z"
      },
      {
        "duration": 1055,
        "start_time": "2024-06-26T10:17:54.414Z"
      },
      {
        "duration": 3,
        "start_time": "2024-06-26T10:17:55.470Z"
      },
      {
        "duration": 4,
        "start_time": "2024-06-26T10:17:55.474Z"
      },
      {
        "duration": 456136,
        "start_time": "2024-06-26T10:17:55.480Z"
      },
      {
        "duration": 0,
        "start_time": "2024-06-26T10:25:31.617Z"
      },
      {
        "duration": 0,
        "start_time": "2024-06-26T10:25:31.619Z"
      },
      {
        "duration": 664,
        "start_time": "2024-06-26T10:25:34.135Z"
      },
      {
        "duration": 9,
        "start_time": "2024-06-26T10:25:45.967Z"
      },
      {
        "duration": 92,
        "start_time": "2024-06-26T10:26:13.518Z"
      },
      {
        "duration": 347,
        "start_time": "2024-06-26T10:26:13.754Z"
      },
      {
        "duration": 2,
        "start_time": "2024-06-26T10:26:17.669Z"
      },
      {
        "duration": 346,
        "start_time": "2024-06-26T10:26:17.866Z"
      },
      {
        "duration": 18,
        "start_time": "2024-06-26T10:26:21.636Z"
      },
      {
        "duration": 5,
        "start_time": "2024-06-26T10:26:33.660Z"
      },
      {
        "duration": 5,
        "start_time": "2024-06-26T10:26:35.156Z"
      },
      {
        "duration": 8,
        "start_time": "2024-06-26T10:26:37.163Z"
      },
      {
        "duration": 341,
        "start_time": "2024-06-26T10:26:48.082Z"
      },
      {
        "duration": 4,
        "start_time": "2024-06-26T10:26:53.201Z"
      },
      {
        "duration": 12,
        "start_time": "2024-06-26T10:26:57.494Z"
      },
      {
        "duration": 8,
        "start_time": "2024-06-26T10:27:04.343Z"
      },
      {
        "duration": 346,
        "start_time": "2024-06-26T10:27:10.029Z"
      },
      {
        "duration": 13,
        "start_time": "2024-06-26T10:27:18.709Z"
      },
      {
        "duration": 349,
        "start_time": "2024-06-26T10:27:25.779Z"
      },
      {
        "duration": 3042,
        "start_time": "2024-06-26T10:28:13.006Z"
      },
      {
        "duration": 3182,
        "start_time": "2024-06-26T10:28:19.311Z"
      },
      {
        "duration": 373,
        "start_time": "2024-06-26T10:28:27.188Z"
      },
      {
        "duration": 8,
        "start_time": "2024-06-26T10:28:41.631Z"
      },
      {
        "duration": 9,
        "start_time": "2024-06-26T10:29:02.285Z"
      },
      {
        "duration": 61,
        "start_time": "2024-06-26T10:29:17.004Z"
      },
      {
        "duration": 11,
        "start_time": "2024-06-26T10:29:20.902Z"
      },
      {
        "duration": 4,
        "start_time": "2024-06-26T10:29:25.276Z"
      },
      {
        "duration": 42,
        "start_time": "2024-06-26T10:29:56.985Z"
      },
      {
        "duration": 403,
        "start_time": "2024-06-26T10:30:10.093Z"
      },
      {
        "duration": 5,
        "start_time": "2024-06-26T10:30:23.479Z"
      },
      {
        "duration": 4,
        "start_time": "2024-06-26T10:30:34.549Z"
      },
      {
        "duration": 28,
        "start_time": "2024-06-26T10:30:45.371Z"
      },
      {
        "duration": 8,
        "start_time": "2024-06-26T10:30:48.470Z"
      },
      {
        "duration": 402,
        "start_time": "2024-06-26T10:31:00.023Z"
      },
      {
        "duration": 3388,
        "start_time": "2024-06-26T10:31:24.479Z"
      },
      {
        "duration": 3390,
        "start_time": "2024-06-26T10:31:31.916Z"
      },
      {
        "duration": 10,
        "start_time": "2024-06-26T10:31:36.847Z"
      },
      {
        "duration": 4162,
        "start_time": "2024-06-26T10:33:00.305Z"
      },
      {
        "duration": 12,
        "start_time": "2024-06-26T10:33:11.760Z"
      },
      {
        "duration": 400,
        "start_time": "2024-06-26T10:33:15.595Z"
      },
      {
        "duration": 1193,
        "start_time": "2024-06-26T10:33:50.264Z"
      },
      {
        "duration": 47,
        "start_time": "2024-06-26T10:33:53.363Z"
      },
      {
        "duration": 24,
        "start_time": "2024-06-26T10:35:26.194Z"
      },
      {
        "duration": 142,
        "start_time": "2024-06-26T10:35:41.219Z"
      },
      {
        "duration": 2512,
        "start_time": "2024-06-26T11:11:49.683Z"
      },
      {
        "duration": 3200,
        "start_time": "2024-06-26T11:12:02.818Z"
      },
      {
        "duration": 2693,
        "start_time": "2024-06-26T11:12:06.020Z"
      },
      {
        "duration": 3554,
        "start_time": "2024-06-26T11:12:08.715Z"
      },
      {
        "duration": 4827,
        "start_time": "2024-06-26T11:12:12.272Z"
      },
      {
        "duration": 71,
        "start_time": "2024-06-26T11:12:17.101Z"
      },
      {
        "duration": 13,
        "start_time": "2024-06-26T11:12:53.761Z"
      },
      {
        "duration": 14,
        "start_time": "2024-06-26T11:13:00.395Z"
      },
      {
        "duration": 2723,
        "start_time": "2024-06-26T11:13:07.784Z"
      },
      {
        "duration": 3610,
        "start_time": "2024-06-26T11:13:12.822Z"
      },
      {
        "duration": 20,
        "start_time": "2024-06-26T11:13:16.434Z"
      },
      {
        "duration": 8,
        "start_time": "2024-06-26T11:15:02.587Z"
      },
      {
        "duration": 14,
        "start_time": "2024-06-26T11:15:07.374Z"
      },
      {
        "duration": 2667,
        "start_time": "2024-06-26T11:15:17.602Z"
      },
      {
        "duration": 2694,
        "start_time": "2024-06-26T11:15:20.271Z"
      },
      {
        "duration": 2653,
        "start_time": "2024-06-26T11:15:22.967Z"
      },
      {
        "duration": 2,
        "start_time": "2024-06-26T11:15:26.845Z"
      },
      {
        "duration": 1654,
        "start_time": "2024-06-26T11:15:27.014Z"
      },
      {
        "duration": 6,
        "start_time": "2024-06-26T11:15:33.733Z"
      },
      {
        "duration": 3378,
        "start_time": "2024-06-26T11:15:36.706Z"
      },
      {
        "duration": 3,
        "start_time": "2024-06-26T11:15:40.086Z"
      },
      {
        "duration": 21,
        "start_time": "2024-06-26T11:15:40.810Z"
      },
      {
        "duration": 6,
        "start_time": "2024-06-26T11:15:41.063Z"
      },
      {
        "duration": 4,
        "start_time": "2024-06-26T11:15:43.222Z"
      },
      {
        "duration": 3,
        "start_time": "2024-06-26T11:15:43.639Z"
      },
      {
        "duration": 5,
        "start_time": "2024-06-26T11:15:46.885Z"
      },
      {
        "duration": 3817,
        "start_time": "2024-06-26T11:15:48.483Z"
      },
      {
        "duration": 3,
        "start_time": "2024-06-26T11:15:52.302Z"
      },
      {
        "duration": 506,
        "start_time": "2024-06-26T11:16:06.198Z"
      },
      {
        "duration": 399,
        "start_time": "2024-06-26T11:17:00.310Z"
      },
      {
        "duration": 10,
        "start_time": "2024-06-26T11:17:26.325Z"
      },
      {
        "duration": 391,
        "start_time": "2024-06-26T11:17:30.668Z"
      },
      {
        "duration": 385,
        "start_time": "2024-06-26T11:17:52.218Z"
      },
      {
        "duration": 4366,
        "start_time": "2024-06-26T11:20:23.449Z"
      },
      {
        "duration": 11,
        "start_time": "2024-06-26T11:20:28.562Z"
      },
      {
        "duration": 419,
        "start_time": "2024-06-26T11:20:32.618Z"
      },
      {
        "duration": 4269,
        "start_time": "2024-06-26T11:20:50.367Z"
      },
      {
        "duration": 75,
        "start_time": "2024-06-26T11:20:55.349Z"
      },
      {
        "duration": 412,
        "start_time": "2024-06-26T11:21:02.204Z"
      },
      {
        "duration": 69,
        "start_time": "2024-06-26T17:45:22.379Z"
      },
      {
        "duration": 2920,
        "start_time": "2024-06-26T17:45:33.943Z"
      },
      {
        "duration": 2604,
        "start_time": "2024-06-26T17:45:39.500Z"
      },
      {
        "duration": 3513,
        "start_time": "2024-06-26T17:45:42.107Z"
      },
      {
        "duration": 4240,
        "start_time": "2024-06-26T17:45:45.622Z"
      },
      {
        "duration": 2611,
        "start_time": "2024-06-26T17:45:57.201Z"
      },
      {
        "duration": 2632,
        "start_time": "2024-06-26T17:45:59.814Z"
      },
      {
        "duration": 2634,
        "start_time": "2024-06-26T17:46:02.448Z"
      },
      {
        "duration": 2980,
        "start_time": "2024-06-26T17:46:05.084Z"
      },
      {
        "duration": 3339,
        "start_time": "2024-06-26T17:46:15.457Z"
      },
      {
        "duration": 3,
        "start_time": "2024-06-26T17:46:18.798Z"
      },
      {
        "duration": 20,
        "start_time": "2024-06-26T17:46:19.924Z"
      },
      {
        "duration": 6,
        "start_time": "2024-06-26T17:46:20.439Z"
      },
      {
        "duration": 5,
        "start_time": "2024-06-26T17:46:21.860Z"
      },
      {
        "duration": 3,
        "start_time": "2024-06-26T17:46:23.669Z"
      },
      {
        "duration": 4,
        "start_time": "2024-06-26T17:46:26.669Z"
      },
      {
        "duration": 3846,
        "start_time": "2024-06-26T17:46:27.604Z"
      },
      {
        "duration": 15,
        "start_time": "2024-06-26T17:46:31.452Z"
      },
      {
        "duration": 4016,
        "start_time": "2024-06-26T17:47:02.334Z"
      },
      {
        "duration": 3861,
        "start_time": "2024-06-26T17:47:15.456Z"
      },
      {
        "duration": 3848,
        "start_time": "2024-06-26T17:47:30.876Z"
      },
      {
        "duration": 3881,
        "start_time": "2024-06-26T17:47:39.822Z"
      },
      {
        "duration": 8,
        "start_time": "2024-06-26T17:47:49.564Z"
      },
      {
        "duration": 19,
        "start_time": "2024-06-26T17:48:03.413Z"
      },
      {
        "duration": 3,
        "start_time": "2024-06-26T17:48:06.891Z"
      },
      {
        "duration": 1275,
        "start_time": "2024-06-26T17:48:17.283Z"
      },
      {
        "duration": 4,
        "start_time": "2024-06-26T17:49:21.727Z"
      },
      {
        "duration": 116817,
        "start_time": "2024-06-26T17:49:40.144Z"
      },
      {
        "duration": 4,
        "start_time": "2024-06-26T17:51:50.402Z"
      },
      {
        "duration": 3,
        "start_time": "2024-06-26T17:51:51.029Z"
      },
      {
        "duration": 3392,
        "start_time": "2024-06-26T17:51:52.017Z"
      },
      {
        "duration": 474584,
        "start_time": "2024-06-26T17:52:04.616Z"
      },
      {
        "duration": 9,
        "start_time": "2024-06-26T18:00:26.113Z"
      },
      {
        "duration": 8,
        "start_time": "2024-06-26T18:01:28.969Z"
      },
      {
        "duration": 12,
        "start_time": "2024-06-26T18:01:55.556Z"
      },
      {
        "duration": 8,
        "start_time": "2024-06-26T18:02:00.952Z"
      },
      {
        "duration": 8,
        "start_time": "2024-06-26T18:02:06.594Z"
      },
      {
        "duration": 4,
        "start_time": "2024-06-26T18:02:53.936Z"
      },
      {
        "duration": 7,
        "start_time": "2024-06-26T18:03:14.889Z"
      },
      {
        "duration": 3,
        "start_time": "2024-06-26T18:03:19.673Z"
      },
      {
        "duration": 12,
        "start_time": "2024-06-26T18:04:03.468Z"
      },
      {
        "duration": 64,
        "start_time": "2024-06-26T18:04:25.521Z"
      },
      {
        "duration": 5,
        "start_time": "2024-06-26T18:04:38.275Z"
      },
      {
        "duration": 59,
        "start_time": "2024-06-26T18:05:03.903Z"
      },
      {
        "duration": 4,
        "start_time": "2024-06-26T18:05:09.702Z"
      },
      {
        "duration": 4,
        "start_time": "2024-06-26T18:05:29.495Z"
      },
      {
        "duration": 4,
        "start_time": "2024-06-26T18:05:52.640Z"
      },
      {
        "duration": 3,
        "start_time": "2024-06-26T18:05:53.062Z"
      },
      {
        "duration": 54,
        "start_time": "2024-06-26T18:05:53.438Z"
      },
      {
        "duration": 3,
        "start_time": "2024-06-26T18:05:53.886Z"
      },
      {
        "duration": 5217,
        "start_time": "2024-06-26T18:05:56.545Z"
      },
      {
        "duration": 26950,
        "start_time": "2024-06-26T18:06:01.764Z"
      },
      {
        "duration": 4,
        "start_time": "2024-06-26T18:10:28.572Z"
      },
      {
        "duration": 9,
        "start_time": "2024-06-26T18:13:14.884Z"
      },
      {
        "duration": 94,
        "start_time": "2024-06-26T18:13:32.106Z"
      },
      {
        "duration": 73,
        "start_time": "2024-06-26T18:14:13.448Z"
      },
      {
        "duration": 4,
        "start_time": "2024-06-26T18:14:19.036Z"
      },
      {
        "duration": 13,
        "start_time": "2024-06-26T18:14:30.699Z"
      },
      {
        "duration": 269505,
        "start_time": "2024-06-26T18:14:40.633Z"
      },
      {
        "duration": 5,
        "start_time": "2024-06-26T18:20:12.038Z"
      },
      {
        "duration": 9,
        "start_time": "2024-06-26T18:22:04.082Z"
      },
      {
        "duration": 5,
        "start_time": "2024-06-26T18:22:15.105Z"
      },
      {
        "duration": 3,
        "start_time": "2024-06-26T18:22:15.641Z"
      },
      {
        "duration": 4134,
        "start_time": "2024-06-26T18:22:41.074Z"
      },
      {
        "duration": 4,
        "start_time": "2024-06-26T18:23:11.164Z"
      },
      {
        "duration": 4,
        "start_time": "2024-06-26T18:23:11.445Z"
      },
      {
        "duration": 3782,
        "start_time": "2024-06-26T18:23:15.498Z"
      },
      {
        "duration": 19,
        "start_time": "2024-06-26T18:23:31.931Z"
      },
      {
        "duration": 2,
        "start_time": "2024-06-26T18:23:32.330Z"
      },
      {
        "duration": 943077,
        "start_time": "2024-06-26T18:24:00.661Z"
      },
      {
        "duration": 0,
        "start_time": "2024-06-26T18:39:43.740Z"
      },
      {
        "duration": 0,
        "start_time": "2024-06-26T18:39:43.741Z"
      },
      {
        "duration": 0,
        "start_time": "2024-06-26T18:39:43.743Z"
      },
      {
        "duration": 1872,
        "start_time": "2024-06-26T18:56:03.801Z"
      },
      {
        "duration": 7019,
        "start_time": "2024-06-26T18:56:32.576Z"
      },
      {
        "duration": 2691,
        "start_time": "2024-06-26T18:56:40.173Z"
      },
      {
        "duration": 233,
        "start_time": "2024-06-26T18:57:29.891Z"
      },
      {
        "duration": 6,
        "start_time": "2024-06-26T18:58:58.440Z"
      },
      {
        "duration": 4,
        "start_time": "2024-06-26T18:59:02.134Z"
      },
      {
        "duration": 158,
        "start_time": "2024-06-26T18:59:30.953Z"
      },
      {
        "duration": 99,
        "start_time": "2024-06-26T18:59:46.537Z"
      },
      {
        "duration": 3,
        "start_time": "2024-06-26T18:59:49.331Z"
      },
      {
        "duration": 4985,
        "start_time": "2024-06-26T18:59:50.009Z"
      },
      {
        "duration": 24611,
        "start_time": "2024-06-26T18:59:59.013Z"
      },
      {
        "duration": 137,
        "start_time": "2024-06-26T19:00:54.926Z"
      },
      {
        "duration": 3,
        "start_time": "2024-06-26T19:00:56.790Z"
      },
      {
        "duration": 5097,
        "start_time": "2024-06-26T19:00:57.151Z"
      },
      {
        "duration": 25175,
        "start_time": "2024-06-26T19:01:02.251Z"
      },
      {
        "duration": 3,
        "start_time": "2024-06-26T19:01:57.457Z"
      },
      {
        "duration": 3832,
        "start_time": "2024-06-26T19:01:58.092Z"
      },
      {
        "duration": 18,
        "start_time": "2024-06-26T19:02:02.745Z"
      },
      {
        "duration": 3,
        "start_time": "2024-06-26T19:02:03.124Z"
      },
      {
        "duration": 2,
        "start_time": "2024-06-26T19:02:03.596Z"
      },
      {
        "duration": 3,
        "start_time": "2024-06-26T19:02:04.228Z"
      },
      {
        "duration": 4,
        "start_time": "2024-06-26T19:02:04.656Z"
      },
      {
        "duration": 487407,
        "start_time": "2024-06-26T19:02:05.333Z"
      },
      {
        "duration": 6,
        "start_time": "2024-06-26T19:10:38.439Z"
      },
      {
        "duration": 3,
        "start_time": "2024-06-26T19:10:44.440Z"
      },
      {
        "duration": 4,
        "start_time": "2024-06-26T19:10:45.246Z"
      },
      {
        "duration": 117,
        "start_time": "2024-06-26T19:10:45.630Z"
      },
      {
        "duration": 3,
        "start_time": "2024-06-26T19:10:48.591Z"
      },
      {
        "duration": 4855,
        "start_time": "2024-06-26T19:10:50.328Z"
      },
      {
        "duration": 25492,
        "start_time": "2024-06-26T19:10:58.042Z"
      },
      {
        "duration": 5203,
        "start_time": "2024-06-26T19:12:33.219Z"
      },
      {
        "duration": 6,
        "start_time": "2024-06-26T19:12:48.852Z"
      },
      {
        "duration": 902915,
        "start_time": "2024-06-26T19:12:50.458Z"
      },
      {
        "duration": 0,
        "start_time": "2024-06-26T19:27:53.375Z"
      },
      {
        "duration": 0,
        "start_time": "2024-06-26T19:27:53.376Z"
      },
      {
        "duration": 4,
        "start_time": "2024-06-26T19:47:55.781Z"
      },
      {
        "duration": 914458,
        "start_time": "2024-06-26T19:47:57.831Z"
      },
      {
        "duration": 9,
        "start_time": "2024-06-26T20:19:55.059Z"
      },
      {
        "duration": 3,
        "start_time": "2024-06-26T20:19:55.826Z"
      },
      {
        "duration": 99,
        "start_time": "2024-06-26T20:19:56.946Z"
      },
      {
        "duration": 1559,
        "start_time": "2024-06-26T20:20:17.228Z"
      },
      {
        "duration": 15,
        "start_time": "2024-06-26T20:20:18.789Z"
      }
    ],
    "kernelspec": {
      "display_name": "Python 3 (ipykernel)",
      "language": "python",
      "name": "python3"
    },
    "language_info": {
      "codemirror_mode": {
        "name": "ipython",
        "version": 3
      },
      "file_extension": ".py",
      "mimetype": "text/x-python",
      "name": "python",
      "nbconvert_exporter": "python",
      "pygments_lexer": "ipython3",
      "version": "3.9.5"
    },
    "toc": {
      "base_numbering": 1,
      "nav_menu": {},
      "number_sections": true,
      "sideBar": true,
      "skip_h1_title": true,
      "title_cell": "Содержание",
      "title_sidebar": "Contents",
      "toc_cell": true,
      "toc_position": {
        "height": "calc(100% - 180px)",
        "left": "10px",
        "top": "150px",
        "width": "302.391px"
      },
      "toc_section_display": true,
      "toc_window_display": true
    },
    "colab": {
      "provenance": []
    }
  },
  "nbformat": 4,
  "nbformat_minor": 0
}